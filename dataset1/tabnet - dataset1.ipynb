{
 "cells": [
  {
   "cell_type": "code",
   "execution_count": 1,
   "metadata": {},
   "outputs": [],
   "source": [
    "#! /home/rajat1/anaconda3/envs/col865/bin/pip install pytorch-tabnet"
   ]
  },
  {
   "cell_type": "code",
   "execution_count": 2,
   "metadata": {},
   "outputs": [],
   "source": [
    "#! /home/rajat1/anaconda3/envs/col865/bin/pip install --pre torch torchvision --extra-index-url https://download.pytorch.org/whl/nightly/cu113"
   ]
  },
  {
   "cell_type": "markdown",
   "metadata": {},
   "source": [
    "### Reading the dataset"
   ]
  },
  {
   "cell_type": "code",
   "execution_count": 3,
   "metadata": {},
   "outputs": [],
   "source": [
    "f1 = open(\"dataset1/dataset.arff\")"
   ]
  },
  {
   "cell_type": "markdown",
   "metadata": {},
   "source": [
    "### Removing the unwanted lines"
   ]
  },
  {
   "cell_type": "code",
   "execution_count": 4,
   "metadata": {},
   "outputs": [],
   "source": [
    "line = f1.readline()\n",
    "\n",
    "i = 0\n",
    "while(line):\n",
    "    line = f1.readline()\n",
    "    if i==48:\n",
    "        break\n",
    "    \n",
    "    i+=1"
   ]
  },
  {
   "cell_type": "markdown",
   "metadata": {},
   "source": [
    "### Reading the actual dataset"
   ]
  },
  {
   "cell_type": "code",
   "execution_count": 5,
   "metadata": {},
   "outputs": [],
   "source": [
    "dataset_tmp = []\n",
    "dataset_tmp.append(line[:-1])\n",
    "\n",
    "while line:\n",
    "    line = f1.readline()\n",
    "    \n",
    "    if line == '':\n",
    "        break\n",
    "    \n",
    "    dataset_tmp.append(line[:-1])\n"
   ]
  },
  {
   "cell_type": "code",
   "execution_count": 6,
   "metadata": {},
   "outputs": [
    {
     "name": "stdout",
     "output_type": "stream",
     "text": [
      "length of the dataset 2916697\n"
     ]
    }
   ],
   "source": [
    "print(\"length of the dataset\", len(dataset_tmp))"
   ]
  },
  {
   "cell_type": "code",
   "execution_count": 7,
   "metadata": {},
   "outputs": [
    {
     "name": "stdout",
     "output_type": "stream",
     "text": [
      "3LFFBxp15h9KSFtaw55np8eP5fv6kdK17e,2018,330,144,0.0739724122705657,6800,0,2,112350000,white\n"
     ]
    }
   ],
   "source": [
    "print(dataset_tmp[-1])"
   ]
  },
  {
   "cell_type": "code",
   "execution_count": 8,
   "metadata": {},
   "outputs": [],
   "source": [
    "dataset= []\n",
    "\n",
    "for i in dataset_tmp:\n",
    "    dataset.append(i.strip().split(','))"
   ]
  },
  {
   "cell_type": "code",
   "execution_count": 9,
   "metadata": {},
   "outputs": [],
   "source": [
    "# ! /home/rajat1/anaconda3/envs/col865/bin/pip install pandas"
   ]
  },
  {
   "cell_type": "code",
   "execution_count": 10,
   "metadata": {},
   "outputs": [],
   "source": [
    "# ! /home/rajat1/anaconda3/envs/col865/bin/pip install numpy"
   ]
  },
  {
   "cell_type": "code",
   "execution_count": 11,
   "metadata": {},
   "outputs": [],
   "source": [
    "import pandas as pd\n",
    "import numpy as np"
   ]
  },
  {
   "cell_type": "code",
   "execution_count": 12,
   "metadata": {},
   "outputs": [],
   "source": [
    "dataset_np = np.array(dataset)"
   ]
  },
  {
   "cell_type": "code",
   "execution_count": 13,
   "metadata": {},
   "outputs": [
    {
     "data": {
      "text/plain": [
       "(2916697, 10)"
      ]
     },
     "execution_count": 13,
     "metadata": {},
     "output_type": "execute_result"
    }
   ],
   "source": [
    "dataset_np.shape"
   ]
  },
  {
   "cell_type": "code",
   "execution_count": 14,
   "metadata": {},
   "outputs": [
    {
     "data": {
      "text/plain": [
       "array([['111K8kZAEnJg245r2cM6y9zgJGHZtJPy6', '2017', '11', ..., '2',\n",
       "        '100050000', 'princetonCerber'],\n",
       "       ['1123pJv8jzeFQaCV4w644pzQJzVWay2zcA', '2016', '132', ..., '1',\n",
       "        '100000000', 'princetonLocky'],\n",
       "       ['112536im7hy6wtKbpH1qYDWtTyMRAcA2p7', '2016', '246', ..., '2',\n",
       "        '200000000', 'princetonCerber'],\n",
       "       ...,\n",
       "       ['1KYiKJEfdJtap9QX2v9BXJMpz2SfU4pgZw', '2018', '330', ..., '35',\n",
       "        '2398267286', 'white'],\n",
       "       ['15iPUJsRNZQZHmZZVwmQ63srsmughCXV4a', '2018', '330', ..., '1',\n",
       "        '178042670', 'white'],\n",
       "       ['3LFFBxp15h9KSFtaw55np8eP5fv6kdK17e', '2018', '330', ..., '2',\n",
       "        '112350000', 'white']], dtype='<U34')"
      ]
     },
     "execution_count": 14,
     "metadata": {},
     "output_type": "execute_result"
    }
   ],
   "source": [
    "dataset_np"
   ]
  },
  {
   "cell_type": "code",
   "execution_count": 15,
   "metadata": {},
   "outputs": [
    {
     "name": "stdout",
     "output_type": "stream",
     "text": [
      "Unique values in column 1 : 2631095\n",
      "Unique values in column 2 : 8\n",
      "Unique values in column 3 : 365\n",
      "Unique values in column 4 : 73\n",
      "Unique values in column 5 : 785669\n",
      "Unique values in column 6 : 11572\n",
      "Unique values in column 7 : 10168\n",
      "Unique values in column 8 : 814\n",
      "Unique values in column 9 : 1866365\n",
      "Unique values in column 10 : 29\n"
     ]
    }
   ],
   "source": [
    "for i in range(dataset_np.shape[1]):\n",
    "    print(\"Unique values in column\",i+1,\":\",len(list(set(dataset_np[:,i]))))"
   ]
  },
  {
   "cell_type": "code",
   "execution_count": 16,
   "metadata": {},
   "outputs": [],
   "source": [
    "dataset_without_id=np.delete(dataset_np,0, axis=1)"
   ]
  },
  {
   "cell_type": "code",
   "execution_count": 17,
   "metadata": {},
   "outputs": [
    {
     "data": {
      "text/plain": [
       "array([['2017', '11', '18', ..., '2', '100050000', 'princetonCerber'],\n",
       "       ['2016', '132', '44', ..., '1', '100000000', 'princetonLocky'],\n",
       "       ['2016', '246', '0', ..., '2', '200000000', 'princetonCerber'],\n",
       "       ...,\n",
       "       ['2018', '330', '2', ..., '35', '2398267286', 'white'],\n",
       "       ['2018', '330', '0', ..., '1', '178042670', 'white'],\n",
       "       ['2018', '330', '144', ..., '2', '112350000', 'white']],\n",
       "      dtype='<U34')"
      ]
     },
     "execution_count": 17,
     "metadata": {},
     "output_type": "execute_result"
    }
   ],
   "source": [
    "dataset_without_id"
   ]
  },
  {
   "cell_type": "code",
   "execution_count": 18,
   "metadata": {},
   "outputs": [
    {
     "data": {
      "text/plain": [
       "(2916697, 9)"
      ]
     },
     "execution_count": 18,
     "metadata": {},
     "output_type": "execute_result"
    }
   ],
   "source": [
    "dataset_without_id.shape"
   ]
  },
  {
   "cell_type": "markdown",
   "metadata": {},
   "source": [
    "### Spliting the dataset to test and train"
   ]
  },
  {
   "cell_type": "markdown",
   "metadata": {},
   "source": [
    "### 1. checking the number of classes"
   ]
  },
  {
   "cell_type": "code",
   "execution_count": 19,
   "metadata": {},
   "outputs": [
    {
     "name": "stdout",
     "output_type": "stream",
     "text": [
      "29\n"
     ]
    },
    {
     "data": {
      "text/plain": [
       "['montrealCryptoTorLocker2015',\n",
       " 'montrealFlyper',\n",
       " 'princetonLocky',\n",
       " 'montrealJigSaw',\n",
       " 'montrealDMALocker',\n",
       " 'montrealGlobeImposter',\n",
       " 'montrealDMALockerv3',\n",
       " 'paduaJigsaw',\n",
       " 'montrealXLockerv5.0',\n",
       " 'montrealGlobe',\n",
       " 'montrealSamSam',\n",
       " 'montrealAPT',\n",
       " 'paduaCryptoWall',\n",
       " 'montrealCryptXXX',\n",
       " 'montrealCryptoLocker',\n",
       " 'montrealWannaCry',\n",
       " 'montrealEDA2',\n",
       " 'montrealXLocker',\n",
       " 'montrealNoobCrypt',\n",
       " 'white',\n",
       " 'montrealSam',\n",
       " 'princetonCerber',\n",
       " 'montrealCryptConsole',\n",
       " 'montrealGlobev3',\n",
       " 'montrealVenusLocker',\n",
       " 'montrealRazy',\n",
       " 'montrealComradeCircle',\n",
       " 'paduaKeRanger',\n",
       " 'montrealXTPLocker']"
      ]
     },
     "execution_count": 19,
     "metadata": {},
     "output_type": "execute_result"
    }
   ],
   "source": [
    "classes = list(set(dataset_without_id[:,8]))\n",
    "print(len(classes))\n",
    "classes"
   ]
  },
  {
   "cell_type": "markdown",
   "metadata": {},
   "source": [
    "### 2. Checking the distribution of classes"
   ]
  },
  {
   "cell_type": "code",
   "execution_count": 20,
   "metadata": {},
   "outputs": [],
   "source": [
    "classes_dic = {}\n",
    "\n",
    "tmp = dataset_without_id[:,8]\n",
    "\n",
    "\n",
    "for i in tmp:\n",
    "    if i not in classes_dic.keys():\n",
    "        classes_dic[i] = 1\n",
    "    else:\n",
    "        classes_dic[i]+=1"
   ]
  },
  {
   "cell_type": "code",
   "execution_count": 21,
   "metadata": {},
   "outputs": [
    {
     "data": {
      "text/plain": [
       "{'princetonCerber': 9223,\n",
       " 'princetonLocky': 6625,\n",
       " 'montrealCryptoLocker': 9315,\n",
       " 'montrealCryptXXX': 2419,\n",
       " 'paduaCryptoWall': 12390,\n",
       " 'montrealWannaCry': 28,\n",
       " 'montrealDMALockerv3': 354,\n",
       " 'montrealCryptoTorLocker2015': 55,\n",
       " 'montrealSamSam': 62,\n",
       " 'montrealFlyper': 9,\n",
       " 'montrealNoobCrypt': 483,\n",
       " 'montrealDMALocker': 251,\n",
       " 'montrealGlobe': 32,\n",
       " 'montrealEDA2': 6,\n",
       " 'paduaKeRanger': 10,\n",
       " 'montrealVenusLocker': 7,\n",
       " 'montrealXTPLocker': 8,\n",
       " 'paduaJigsaw': 2,\n",
       " 'montrealGlobev3': 34,\n",
       " 'montrealJigSaw': 4,\n",
       " 'montrealXLockerv5.0': 7,\n",
       " 'montrealXLocker': 1,\n",
       " 'montrealRazy': 13,\n",
       " 'montrealCryptConsole': 7,\n",
       " 'montrealGlobeImposter': 55,\n",
       " 'montrealSam': 1,\n",
       " 'montrealComradeCircle': 1,\n",
       " 'montrealAPT': 11,\n",
       " 'white': 2875284}"
      ]
     },
     "execution_count": 21,
     "metadata": {},
     "output_type": "execute_result"
    }
   ],
   "source": [
    "classes_dic"
   ]
  },
  {
   "cell_type": "code",
   "execution_count": 22,
   "metadata": {},
   "outputs": [
    {
     "name": "stdout",
     "output_type": "stream",
     "text": [
      "Requirement already satisfied: matplotlib in /home/srajat/anaconda3/envs/col865/lib/python3.8/site-packages (3.6.1)\n",
      "Requirement already satisfied: contourpy>=1.0.1 in /home/srajat/anaconda3/envs/col865/lib/python3.8/site-packages (from matplotlib) (1.0.6)\n",
      "Requirement already satisfied: python-dateutil>=2.7 in /home/srajat/anaconda3/envs/col865/lib/python3.8/site-packages (from matplotlib) (2.8.2)\n",
      "Requirement already satisfied: pyparsing>=2.2.1 in /home/srajat/anaconda3/envs/col865/lib/python3.8/site-packages (from matplotlib) (3.0.9)\n",
      "Requirement already satisfied: cycler>=0.10 in /home/srajat/anaconda3/envs/col865/lib/python3.8/site-packages (from matplotlib) (0.11.0)\n",
      "Requirement already satisfied: pillow>=6.2.0 in /home/srajat/anaconda3/envs/col865/lib/python3.8/site-packages (from matplotlib) (9.3.0)\n",
      "Requirement already satisfied: fonttools>=4.22.0 in /home/srajat/anaconda3/envs/col865/lib/python3.8/site-packages (from matplotlib) (4.38.0)\n",
      "Requirement already satisfied: kiwisolver>=1.0.1 in /home/srajat/anaconda3/envs/col865/lib/python3.8/site-packages (from matplotlib) (1.4.4)\n",
      "Requirement already satisfied: packaging>=20.0 in /home/srajat/anaconda3/envs/col865/lib/python3.8/site-packages (from matplotlib) (21.3)\n",
      "Requirement already satisfied: numpy>=1.19 in /home/srajat/anaconda3/envs/col865/lib/python3.8/site-packages (from matplotlib) (1.23.3)\n",
      "Requirement already satisfied: six>=1.5 in /home/srajat/anaconda3/envs/col865/lib/python3.8/site-packages (from python-dateutil>=2.7->matplotlib) (1.16.0)\n"
     ]
    }
   ],
   "source": [
    "!  /home/srajat/anaconda3/envs/col865/bin/pip install matplotlib"
   ]
  },
  {
   "cell_type": "code",
   "execution_count": 23,
   "metadata": {},
   "outputs": [
    {
     "name": "stdout",
     "output_type": "stream",
     "text": [
      "dict_keys(['princetonCerber', 'princetonLocky', 'montrealCryptoLocker', 'montrealCryptXXX', 'paduaCryptoWall', 'montrealWannaCry', 'montrealDMALockerv3', 'montrealCryptoTorLocker2015', 'montrealSamSam', 'montrealFlyper', 'montrealNoobCrypt', 'montrealDMALocker', 'montrealGlobe', 'montrealEDA2', 'paduaKeRanger', 'montrealVenusLocker', 'montrealXTPLocker', 'paduaJigsaw', 'montrealGlobev3', 'montrealJigSaw', 'montrealXLockerv5.0', 'montrealXLocker', 'montrealRazy', 'montrealCryptConsole', 'montrealGlobeImposter', 'montrealSam', 'montrealComradeCircle', 'montrealAPT', 'white'])\n",
      "dict_values([9223, 6625, 9315, 2419, 12390, 28, 354, 55, 62, 9, 483, 251, 32, 6, 10, 7, 8, 2, 34, 4, 7, 1, 13, 7, 55, 1, 1, 11, 2875284])\n"
     ]
    },
    {
     "data": {
      "image/png": "[encoded data removed]",
      "text/plain": [
       "<Figure size 640x480 with 1 Axes>"
      ]
     },
     "metadata": {},
     "output_type": "display_data"
    }
   ],
   "source": [
    "import matplotlib.pyplot as plt\n",
    "import numpy as np\n",
    "\n",
    "x = classes_dic.keys()\n",
    "y = classes_dic.values()\n",
    "\n",
    "print(x)\n",
    "print(y)\n",
    "\n",
    "plt.plot(x, y)\n",
    "plt.show()"
   ]
  },
  {
   "cell_type": "markdown",
   "metadata": {},
   "source": [
    "Since the distribution of classes is uneven. we need some normalization. And also when we are spliting the dataset we need to split it accordingly so that the distribution will not affect."
   ]
  },
  {
   "cell_type": "markdown",
   "metadata": {},
   "source": [
    "### 3. Spliting the dataset"
   ]
  },
  {
   "cell_type": "markdown",
   "metadata": {},
   "source": [
    "### 3.1 For each class take X% as the train and Y% as test dataset. If the number of samples are less than 5 the we will consider all the samples for training in that case."
   ]
  },
  {
   "cell_type": "code",
   "execution_count": 24,
   "metadata": {},
   "outputs": [],
   "source": [
    "# ! /home/rajat1/anaconda3/envs/col865/bin/pip install tqdm"
   ]
  },
  {
   "cell_type": "code",
   "execution_count": 25,
   "metadata": {},
   "outputs": [],
   "source": [
    "# ! /home/rajat1/anaconda3/envs/col865/bin/pip install sklearn"
   ]
  },
  {
   "cell_type": "code",
   "execution_count": 26,
   "metadata": {},
   "outputs": [],
   "source": [
    "train_per = 60\n",
    "val_per = 40\n",
    "test_per = 100 - train_per\n",
    "threshold = 5"
   ]
  },
  {
   "cell_type": "code",
   "execution_count": 27,
   "metadata": {},
   "outputs": [],
   "source": [
    "classes_dic_data = {}\n",
    "\n",
    "tmp = dataset_without_id[:,:]\n",
    "\n",
    "\n",
    "for i in tmp:\n",
    "    if i[8] not in classes_dic_data.keys():\n",
    "        classes_dic_data[i[8]] = []\n",
    "    \n",
    "    classes_dic_data[i[8]].append(i)"
   ]
  },
  {
   "cell_type": "code",
   "execution_count": 28,
   "metadata": {},
   "outputs": [
    {
     "name": "stdout",
     "output_type": "stream",
     "text": [
      "princetonCerber 9223\n",
      "princetonLocky 6625\n",
      "montrealCryptoLocker 9315\n",
      "montrealCryptXXX 2419\n",
      "paduaCryptoWall 12390\n",
      "montrealWannaCry 28\n",
      "montrealDMALockerv3 354\n",
      "montrealCryptoTorLocker2015 55\n",
      "montrealSamSam 62\n",
      "montrealFlyper 9\n",
      "montrealNoobCrypt 483\n",
      "montrealDMALocker 251\n",
      "montrealGlobe 32\n",
      "montrealEDA2 6\n",
      "paduaKeRanger 10\n",
      "montrealVenusLocker 7\n",
      "montrealXTPLocker 8\n",
      "paduaJigsaw 2\n",
      "montrealGlobev3 34\n",
      "montrealJigSaw 4\n",
      "montrealXLockerv5.0 7\n",
      "montrealXLocker 1\n",
      "montrealRazy 13\n",
      "montrealCryptConsole 7\n",
      "montrealGlobeImposter 55\n",
      "montrealSam 1\n",
      "montrealComradeCircle 1\n",
      "montrealAPT 11\n",
      "white 2875284\n"
     ]
    }
   ],
   "source": [
    "for i in classes_dic_data.keys():\n",
    "    print(i, len(classes_dic_data[i]))"
   ]
  },
  {
   "cell_type": "code",
   "execution_count": 29,
   "metadata": {},
   "outputs": [
    {
     "name": "stdout",
     "output_type": "stream",
     "text": [
      "princetonCerber 9223\n",
      "princetonLocky 6625\n",
      "montrealCryptoLocker 9315\n",
      "montrealCryptXXX 2419\n",
      "paduaCryptoWall 12390\n",
      "montrealWannaCry 28\n",
      "montrealDMALockerv3 354\n",
      "montrealCryptoTorLocker2015 55\n",
      "montrealSamSam 62\n",
      "montrealFlyper 9\n",
      "montrealNoobCrypt 483\n",
      "montrealDMALocker 251\n",
      "montrealGlobe 32\n",
      "montrealEDA2 6\n",
      "paduaKeRanger 10\n",
      "montrealVenusLocker 7\n",
      "montrealXTPLocker 8\n",
      "paduaJigsaw 2\n",
      "montrealGlobev3 34\n",
      "montrealJigSaw 4\n",
      "montrealXLockerv5.0 7\n",
      "montrealXLocker 1\n",
      "montrealRazy 13\n",
      "montrealCryptConsole 7\n",
      "montrealGlobeImposter 55\n",
      "montrealSam 1\n",
      "montrealComradeCircle 1\n",
      "montrealAPT 11\n",
      "white 2875284\n"
     ]
    }
   ],
   "source": [
    "import sklearn\n",
    "import sklearn.model_selection\n",
    "\n",
    "test = []\n",
    "train = []\n",
    "val = []\n",
    "\n",
    "\n",
    "import random\n",
    "\n",
    "for i in classes_dic_data.keys():\n",
    "    \n",
    "    print(i, len(classes_dic_data[i]))\n",
    "    \n",
    "    if len(classes_dic_data[i]) < threshold:\n",
    "        \n",
    "        for j in classes_dic_data[i]:\n",
    "            train.append(j)\n",
    "            \n",
    "    else:\n",
    "\n",
    "        train_tt, test_t = sklearn.model_selection.train_test_split(classes_dic_data[i], shuffle=True, test_size = test_per/100)\n",
    "        \n",
    "        train_t, val_t = sklearn.model_selection.train_test_split(train_tt, shuffle=True, test_size = val_per/100)\n",
    "        \n",
    "        for j in train_t:\n",
    "            train.append(j)\n",
    "        \n",
    "        for j in test_t:\n",
    "            test.append(j)\n",
    "        \n",
    "        for j in val_t:\n",
    "            val.append(j)\n",
    "\n",
    "        "
   ]
  },
  {
   "cell_type": "code",
   "execution_count": 30,
   "metadata": {},
   "outputs": [
    {
     "name": "stdout",
     "output_type": "stream",
     "text": [
      "Train 1050002\n",
      "Test 1166684\n",
      "Val 700011\n",
      "Total 2916697\n"
     ]
    }
   ],
   "source": [
    "print(\"Train\",len(train))\n",
    "print(\"Test\",len(test)) \n",
    "print(\"Val\",len(val))\n",
    "print(\"Total\", len(train)+len(test)+len(val)) # 2916697"
   ]
  },
  {
   "cell_type": "code",
   "execution_count": 34,
   "metadata": {},
   "outputs": [],
   "source": [
    "train = np.array(train)\n",
    "test = np.array(test)\n",
    "val = np.array(val)"
   ]
  },
  {
   "cell_type": "markdown",
   "metadata": {},
   "source": [
    "### 3.2 Dataset is preapared"
   ]
  },
  {
   "cell_type": "code",
   "execution_count": 35,
   "metadata": {},
   "outputs": [],
   "source": [
    "def onehot_encoding(classes, val):\n",
    "    lis = []\n",
    "    \n",
    "    cl_dic  = {}\n",
    "    \n",
    "    for i in range(len(classes)):\n",
    "        cl_dic[classes[i]] = i\n",
    "    \n",
    "    for i in val:\n",
    "        tm = [0]*len(classes)\n",
    "        tm[cl_dic[i]] = 1\n",
    "        lis.append(tm)\n",
    "    return lis\n",
    "\n",
    "def one_encoding(classes, val):\n",
    "    lis = []\n",
    "    \n",
    "    cl_dic  = {}\n",
    "    \n",
    "    for i in range(len(classes)):\n",
    "        cl_dic[classes[i]] = i\n",
    "        \n",
    "    for i in val:\n",
    "        lis.append(cl_dic[i])\n",
    "    return lis"
   ]
  },
  {
   "cell_type": "code",
   "execution_count": 36,
   "metadata": {},
   "outputs": [],
   "source": [
    "# classes = list(classes_dic_data.keys())\n",
    "# train_X = train[:,:-1].astype(\"float32\")\n",
    "# train_y = onehot_encoding(classes,train[:,-1])\n",
    "# test_X = test[:,:-1].astype(\"float32\")\n",
    "# test_y = onehot_encoding(classes,test[:,-1])\n",
    "# val_X = val[:,:-1].astype(\"float32\")\n",
    "# val_y = onehot_encoding(classes, val[:,-1])"
   ]
  },
  {
   "cell_type": "code",
   "execution_count": 37,
   "metadata": {},
   "outputs": [],
   "source": [
    "classes = list(classes_dic_data.keys())\n",
    "train_X = train[:,:-1].astype(\"float32\")\n",
    "train_y = one_encoding(classes,train[:,-1])\n",
    "test_X = test[:,:-1].astype(\"float32\")\n",
    "test_y = one_encoding(classes,test[:,-1])\n",
    "val_X = val[:,:-1].astype(\"float32\")\n",
    "val_y = one_encoding(classes,val[:,-1])"
   ]
  },
  {
   "cell_type": "code",
   "execution_count": 38,
   "metadata": {},
   "outputs": [
    {
     "name": "stdout",
     "output_type": "stream",
     "text": [
      "[ 0  0  0 ... 28 28 28]\n"
     ]
    }
   ],
   "source": [
    "train_y = np.array(train_y)\n",
    "print(train_y)\n",
    "test_y = np.array(test_y)\n",
    "val_y = np.array(val_y)"
   ]
  },
  {
   "cell_type": "code",
   "execution_count": 39,
   "metadata": {},
   "outputs": [
    {
     "name": "stdout",
     "output_type": "stream",
     "text": [
      "(1050002, 8)\n",
      "(1050002,)\n"
     ]
    }
   ],
   "source": [
    "print(train_X.shape)\n",
    "print(train_y.shape)"
   ]
  },
  {
   "cell_type": "code",
   "execution_count": 40,
   "metadata": {},
   "outputs": [
    {
     "name": "stdout",
     "output_type": "stream",
     "text": [
      "(700011, 8)\n",
      "(700011,)\n"
     ]
    }
   ],
   "source": [
    "print(val_X.shape)\n",
    "print(val_y.shape)"
   ]
  },
  {
   "cell_type": "code",
   "execution_count": 41,
   "metadata": {},
   "outputs": [
    {
     "data": {
      "text/plain": [
       "array([[2.0160000e+03, 8.5000000e+01, 4.0000000e+00, ..., 0.0000000e+00,\n",
       "        2.0000000e+00, 1.2500000e+08],\n",
       "       [2.0160000e+03, 1.4800000e+02, 5.8000000e+01, ..., 0.0000000e+00,\n",
       "        2.0000000e+00, 1.2500000e+08],\n",
       "       [2.0160000e+03, 2.8200000e+02, 1.4400000e+02, ..., 0.0000000e+00,\n",
       "        2.0000000e+00, 1.0000000e+08],\n",
       "       ...,\n",
       "       [2.0120000e+03, 2.2200000e+02, 1.4400000e+02, ..., 1.4070000e+03,\n",
       "        2.0000000e+00, 1.0014240e+08],\n",
       "       [2.0140000e+03, 1.1600000e+02, 4.0000000e+00, ..., 0.0000000e+00,\n",
       "        2.0000000e+00, 5.0000000e+07],\n",
       "       [2.0180000e+03, 9.2000000e+01, 1.4400000e+02, ..., 3.9340000e+03,\n",
       "        2.0000000e+00, 2.5829937e+09]], dtype=float32)"
      ]
     },
     "execution_count": 41,
     "metadata": {},
     "output_type": "execute_result"
    }
   ],
   "source": [
    "train_X"
   ]
  },
  {
   "cell_type": "code",
   "execution_count": 42,
   "metadata": {},
   "outputs": [
    {
     "data": {
      "text/plain": [
       "array([ 0,  0,  0, ..., 28, 28, 28])"
      ]
     },
     "execution_count": 42,
     "metadata": {},
     "output_type": "execute_result"
    }
   ],
   "source": [
    "train_y"
   ]
  },
  {
   "cell_type": "code",
   "execution_count": 45,
   "metadata": {},
   "outputs": [
    {
     "data": {
      "text/plain": [
       "False"
      ]
     },
     "execution_count": 45,
     "metadata": {},
     "output_type": "execute_result"
    }
   ],
   "source": [
    "import torch\n",
    "torch.cuda.is_available()"
   ]
  },
  {
   "cell_type": "markdown",
   "metadata": {},
   "source": [
    "## Running the model"
   ]
  },
  {
   "cell_type": "code",
   "execution_count": 46,
   "metadata": {},
   "outputs": [
    {
     "name": "stdout",
     "output_type": "stream",
     "text": [
      "cpu\n",
      "Device used : cpu\n",
      "epoch 0  | loss: 0.11717 | val_0_accuracy: 0.9858  |  0:01:22s\n",
      "epoch 1  | loss: 0.07086 | val_0_accuracy: 0.9858  |  0:02:34s\n",
      "epoch 2  | loss: 0.06917 | val_0_accuracy: 0.98579 |  0:03:56s\n",
      "epoch 3  | loss: 0.0681  | val_0_accuracy: 0.9858  |  0:05:17s\n",
      "epoch 4  | loss: 0.0675  | val_0_accuracy: 0.9858  |  0:06:39s\n",
      "Stop training because you reached max_epochs = 5 with best_epoch = 0 and best_val_0_accuracy = 0.9858\n",
      "Best weights from best epoch are automatically used!\n"
     ]
    }
   ],
   "source": [
    "import torch\n",
    "device = torch.device(\"cuda:0\" if torch.cuda.is_available() else \"cpu\")\n",
    "\n",
    "\n",
    "print(device)\n",
    "\n",
    "\n",
    "\n",
    "from pytorch_tabnet.tab_model import TabNetClassifier, TabNetRegressor\n",
    "\n",
    "clf = TabNetClassifier(device_name=device)\n",
    "\n",
    "clf.fit(\n",
    "      train_X, \n",
    "      train_y,\n",
    "      eval_set=[(val_X, val_y)],\n",
    "      max_epochs = 5\n",
    ")\n",
    "\n",
    "preds = clf.predict(test_X)"
   ]
  },
  {
   "cell_type": "markdown",
   "metadata": {},
   "source": [
    "### 1. training the model"
   ]
  },
  {
   "cell_type": "code",
   "execution_count": null,
   "metadata": {},
   "outputs": [],
   "source": []
  },
  {
   "cell_type": "code",
   "execution_count": 47,
   "metadata": {},
   "outputs": [
    {
     "name": "stdout",
     "output_type": "stream",
     "text": [
      "[28]\n",
      "0\n"
     ]
    }
   ],
   "source": [
    "print(clf.predict([test_X[0]]))\n",
    "print(test_y[0])"
   ]
  },
  {
   "cell_type": "markdown",
   "metadata": {},
   "source": [
    "### 2. testing the model"
   ]
  },
  {
   "cell_type": "code",
   "execution_count": 48,
   "metadata": {},
   "outputs": [],
   "source": [
    "true_res = 0\n",
    "\n",
    "res = clf.predict(test_X)"
   ]
  },
  {
   "cell_type": "code",
   "execution_count": 50,
   "metadata": {},
   "outputs": [
    {
     "data": {
      "text/plain": [
       "array([28, 28, 28, ..., 28, 28, 28])"
      ]
     },
     "execution_count": 50,
     "metadata": {},
     "output_type": "execute_result"
    }
   ],
   "source": [
    "res"
   ]
  },
  {
   "cell_type": "code",
   "execution_count": 51,
   "metadata": {},
   "outputs": [
    {
     "name": "stdout",
     "output_type": "stream",
     "text": [
      "0.9857973538678854\n"
     ]
    }
   ],
   "source": [
    "for i in range(res.shape[0]):\n",
    "    if(res[i] == test_y[i]):\n",
    "        true_res +=1\n",
    "\n",
    "accuracy = true_res/test_X.shape[0]\n",
    "print(accuracy)"
   ]
  },
  {
   "cell_type": "markdown",
   "metadata": {},
   "source": [
    "### checking if we get right"
   ]
  },
  {
   "cell_type": "code",
   "execution_count": 52,
   "metadata": {},
   "outputs": [],
   "source": [
    "def plot_confusion_matrix(cm,\n",
    "                          target_names,\n",
    "                          title='Confusion matrix',\n",
    "                          cmap=None,\n",
    "                          normalize=True):\n",
    "    \"\"\"\n",
    "    given a sklearn confusion matrix (cm), make a nice plot\n",
    "\n",
    "    Arguments\n",
    "    ---------\n",
    "    cm:           confusion matrix from sklearn.metrics.confusion_matrix\n",
    "\n",
    "    target_names: given classification classes such as [0, 1, 2]\n",
    "                  the class names, for example: ['high', 'medium', 'low']\n",
    "\n",
    "    title:        the text to display at the top of the matrix\n",
    "\n",
    "    cmap:         the gradient of the values displayed from matplotlib.pyplot.cm\n",
    "                  see http://matplotlib.org/examples/color/colormaps_reference.html\n",
    "                  plt.get_cmap('jet') or plt.cm.Blues\n",
    "\n",
    "    normalize:    If False, plot the raw numbers\n",
    "                  If True, plot the proportions\n",
    "\n",
    "    Usage\n",
    "    -----\n",
    "    plot_confusion_matrix(cm           = cm,                  # confusion matrix created by\n",
    "                                                              # sklearn.metrics.confusion_matrix\n",
    "                          normalize    = True,                # show proportions\n",
    "                          target_names = y_labels_vals,       # list of names of the classes\n",
    "                          title        = best_estimator_name) # title of graph\n",
    "\n",
    "    Citiation\n",
    "    ---------\n",
    "    http://scikit-learn.org/stable/auto_examples/model_selection/plot_confusion_matrix.html\n",
    "\n",
    "    \"\"\"\n",
    "    import matplotlib.pyplot as plt\n",
    "    import numpy as np\n",
    "    import itertools\n",
    "    \n",
    "    \n",
    "\n",
    "    accuracy = np.trace(cm) / float(np.sum(cm))\n",
    "    misclass = 1 - accuracy\n",
    "\n",
    "    if cmap is None:\n",
    "        cmap = plt.get_cmap('Blues')\n",
    "\n",
    "    plt.figure(figsize=(30,30))\n",
    "    #plt.figure()\n",
    "    plt.imshow(cm, interpolation='nearest', cmap=cmap)\n",
    "    plt.title(title)\n",
    "    plt.colorbar()\n",
    "\n",
    "    if target_names is not None:\n",
    "        tick_marks = np.arange(len(target_names))\n",
    "        plt.xticks(tick_marks, target_names, rotation=45)\n",
    "        plt.yticks(tick_marks, target_names)\n",
    "\n",
    "    if normalize:\n",
    "        cm = cm.astype('float') / cm.sum(axis=1)[:, np.newaxis]\n",
    "\n",
    "\n",
    "    thresh = cm.max() / 1.5 if normalize else cm.max() / 2\n",
    "    for i, j in itertools.product(range(cm.shape[0]), range(cm.shape[1])):\n",
    "        if normalize:\n",
    "            plt.text(j, i, \"{:0.4f}\".format(cm[i, j]),\n",
    "                     horizontalalignment=\"center\",\n",
    "                     color=\"white\" if cm[i, j] > thresh else \"black\")\n",
    "        else:\n",
    "            plt.text(j, i, \"{:,}\".format(cm[i, j]),\n",
    "                     horizontalalignment=\"center\",\n",
    "                     color=\"white\" if cm[i, j] > thresh else \"black\")\n",
    "\n",
    "\n",
    "    plt.tight_layout()\n",
    "    plt.ylabel('True label')\n",
    "    plt.xlabel('Predicted label\\naccuracy={:0.4f}; misclass={:0.4f}'.format(accuracy, misclass))\n",
    "    plt.savefig(\"fig_1_t1.png\")\n",
    "    plt.show()"
   ]
  },
  {
   "cell_type": "code",
   "execution_count": 53,
   "metadata": {},
   "outputs": [],
   "source": [
    "classes = list(set(test_y))\n",
    "\n",
    "dic = {}\n",
    "for i in range(len(classes)):\n",
    "    dic[classes[i]] = i\n",
    "\n",
    "cnf_array = []\n",
    "for i in range(len(classes)):\n",
    "    cnf_array.append([0]*len(classes))\n",
    "\n",
    "for i in range(res.shape[0]):\n",
    "    cnf_array[dic[test_y[i]]][dic[res[i]]]+=1"
   ]
  },
  {
   "cell_type": "code",
   "execution_count": 54,
   "metadata": {},
   "outputs": [
    {
     "name": "stdout",
     "output_type": "stream",
     "text": [
      "[[0, 0, 0, 0, 0, 0, 0, 0, 0, 0, 0, 0, 0, 0, 0, 0, 0, 0, 0, 0, 0, 0, 0, 3690], [0, 0, 0, 0, 0, 0, 0, 0, 0, 0, 0, 0, 0, 0, 0, 0, 0, 0, 0, 0, 0, 0, 0, 2650], [0, 0, 0, 0, 0, 0, 0, 0, 0, 0, 0, 0, 0, 0, 0, 0, 0, 0, 0, 0, 0, 0, 0, 3726], [0, 0, 0, 0, 0, 0, 0, 0, 0, 0, 0, 0, 0, 0, 0, 0, 0, 0, 0, 0, 0, 0, 0, 968], [0, 0, 0, 0, 0, 0, 0, 0, 0, 0, 0, 0, 0, 0, 0, 0, 0, 0, 0, 0, 0, 0, 0, 4956], [0, 0, 0, 0, 0, 0, 0, 0, 0, 0, 0, 0, 0, 0, 0, 0, 0, 0, 0, 0, 0, 0, 0, 12], [0, 0, 0, 0, 0, 0, 0, 0, 0, 0, 0, 0, 0, 0, 0, 0, 0, 0, 0, 0, 0, 0, 0, 142], [0, 0, 0, 0, 0, 0, 0, 0, 0, 0, 0, 0, 0, 0, 0, 0, 0, 0, 0, 0, 0, 0, 0, 22], [0, 0, 0, 0, 0, 0, 0, 0, 0, 0, 0, 0, 0, 0, 0, 0, 0, 0, 0, 0, 0, 0, 0, 25], [0, 0, 0, 0, 0, 0, 0, 0, 0, 0, 0, 0, 0, 0, 0, 0, 0, 0, 0, 0, 0, 0, 0, 4], [0, 0, 0, 0, 0, 0, 0, 0, 0, 0, 0, 0, 0, 0, 0, 0, 0, 0, 0, 0, 0, 0, 0, 194], [0, 0, 0, 0, 0, 0, 0, 0, 0, 0, 0, 0, 0, 0, 0, 0, 0, 0, 0, 0, 0, 0, 0, 101], [0, 0, 0, 0, 0, 0, 0, 0, 0, 0, 0, 0, 0, 0, 0, 0, 0, 0, 0, 0, 0, 0, 0, 13], [0, 0, 0, 0, 0, 0, 0, 0, 0, 0, 0, 0, 0, 0, 0, 0, 0, 0, 0, 0, 0, 0, 0, 3], [0, 0, 0, 0, 0, 0, 0, 0, 0, 0, 0, 0, 0, 0, 0, 0, 0, 0, 0, 0, 0, 0, 0, 4], [0, 0, 0, 0, 0, 0, 0, 0, 0, 0, 0, 0, 0, 0, 0, 0, 0, 0, 0, 0, 0, 0, 0, 3], [0, 0, 0, 0, 0, 0, 0, 0, 0, 0, 0, 0, 0, 0, 0, 0, 0, 0, 0, 0, 0, 0, 0, 4], [0, 0, 0, 0, 0, 0, 0, 0, 0, 0, 0, 0, 0, 0, 0, 0, 0, 0, 0, 0, 0, 0, 0, 14], [0, 0, 0, 0, 0, 0, 0, 0, 0, 0, 0, 0, 0, 0, 0, 0, 0, 0, 0, 0, 0, 0, 0, 3], [0, 0, 0, 0, 0, 0, 0, 0, 0, 0, 0, 0, 0, 0, 0, 0, 0, 0, 0, 0, 0, 0, 0, 6], [0, 0, 0, 0, 0, 0, 0, 0, 0, 0, 0, 0, 0, 0, 0, 0, 0, 0, 0, 0, 0, 0, 0, 3], [0, 0, 0, 0, 0, 0, 0, 0, 0, 0, 0, 0, 0, 0, 0, 0, 0, 0, 0, 0, 0, 0, 0, 22], [0, 0, 0, 0, 0, 0, 0, 0, 0, 0, 0, 0, 0, 0, 0, 0, 0, 0, 0, 0, 0, 0, 0, 5], [0, 0, 0, 0, 0, 0, 0, 0, 0, 0, 0, 0, 0, 0, 0, 0, 0, 0, 0, 0, 0, 0, 0, 1150114]]\n"
     ]
    }
   ],
   "source": [
    "print(cnf_array)"
   ]
  },
  {
   "cell_type": "code",
   "execution_count": 55,
   "metadata": {},
   "outputs": [
    {
     "data": {
      "image/png": "[encoded data removed]",
      "text/plain": [
       "<Figure size 3000x3000 with 2 Axes>"
      ]
     },
     "metadata": {},
     "output_type": "display_data"
    }
   ],
   "source": [
    "plot_confusion_matrix(cm= np.array(cnf_array), \n",
    "                      normalize    = False,\n",
    "                      target_names = classes,\n",
    "                      title        = \"Confusion Matrix\")"
   ]
  },
  {
   "cell_type": "code",
   "execution_count": null,
   "metadata": {},
   "outputs": [],
   "source": []
  },
  {
   "cell_type": "code",
   "execution_count": null,
   "metadata": {},
   "outputs": [],
   "source": []
  }
 ],
 "metadata": {
  "kernelspec": {
   "display_name": "col865",
   "language": "python",
   "name": "col865"
  },
  "language_info": {
   "codemirror_mode": {
    "name": "ipython",
    "version": 3
   },
   "file_extension": ".py",
   "mimetype": "text/x-python",
   "name": "python",
   "nbconvert_exporter": "python",
   "pygments_lexer": "ipython3",
   "version": "3.8.13"
  }
 },
 "nbformat": 4,
 "nbformat_minor": 5
}
