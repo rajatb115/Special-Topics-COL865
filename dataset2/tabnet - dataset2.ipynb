{
 "cells": [
  {
   "cell_type": "markdown",
   "metadata": {},
   "source": [
    "## Running the model"
   ]
  },
  {
   "cell_type": "code",
   "execution_count": 2,
   "metadata": {},
   "outputs": [],
   "source": [
    "import pickle\n",
    "with open('dataset2/raw_dataset_final.pickle', 'rb') as handle:\n",
    "    dataset_without_id = pickle.load(handle)"
   ]
  },
  {
   "cell_type": "code",
   "execution_count": 3,
   "metadata": {},
   "outputs": [
    {
     "data": {
      "text/plain": [
       "(1578154, 29)"
      ]
     },
     "execution_count": 3,
     "metadata": {},
     "output_type": "execute_result"
    }
   ],
   "source": [
    "dataset_without_id.shape\n",
    "\n",
    "# we need to predict col 22"
   ]
  },
  {
   "cell_type": "code",
   "execution_count": 4,
   "metadata": {},
   "outputs": [],
   "source": [
    "# for one hot encoding\n",
    "\n",
    "one_hot = {}\n",
    "\n",
    "for j in range(dataset_without_id.shape[1]):\n",
    "    \n",
    "    k = dataset_without_id[:,j]\n",
    "    \n",
    "    encoding = {}\n",
    "    tmp = 0\n",
    "    for i in k:\n",
    "        if i not in encoding.keys():\n",
    "            encoding[i] = tmp\n",
    "            tmp+=1\n",
    "    one_hot[j] = encoding"
   ]
  },
  {
   "cell_type": "code",
   "execution_count": 5,
   "metadata": {},
   "outputs": [
    {
     "data": {
      "text/plain": [
       "['SERO', 'Citation', 'Warning', 'ESERO']"
      ]
     },
     "execution_count": 5,
     "metadata": {},
     "output_type": "execute_result"
    }
   ],
   "source": [
    "classes = list(set(dataset_without_id[:,21]))\n",
    "classes"
   ]
  },
  {
   "cell_type": "code",
   "execution_count": 6,
   "metadata": {},
   "outputs": [],
   "source": [
    "classes_dic = {}\n",
    "\n",
    "tmp = dataset_without_id[:,21]\n",
    "\n",
    "for i in tmp:\n",
    "    if i not in classes_dic.keys():\n",
    "        classes_dic[i] = 1\n",
    "    else:\n",
    "        classes_dic[i]+=1"
   ]
  },
  {
   "cell_type": "code",
   "execution_count": 7,
   "metadata": {},
   "outputs": [
    {
     "data": {
      "text/plain": [
       "{'ESERO': 75974, 'Warning': 789812, 'Citation': 711469, 'SERO': 899}"
      ]
     },
     "execution_count": 7,
     "metadata": {},
     "output_type": "execute_result"
    }
   ],
   "source": [
    "classes_dic"
   ]
  },
  {
   "cell_type": "code",
   "execution_count": 8,
   "metadata": {},
   "outputs": [
    {
     "name": "stdout",
     "output_type": "stream",
     "text": [
      "dict_keys(['ESERO', 'Warning', 'Citation', 'SERO'])\n",
      "dict_values([75974, 789812, 711469, 899])\n"
     ]
    },
    {
     "data": {
      "image/png": "[encoded data removed]",
      "text/plain": [
       "<Figure size 640x480 with 1 Axes>"
      ]
     },
     "metadata": {},
     "output_type": "display_data"
    }
   ],
   "source": [
    "import matplotlib.pyplot as plt\n",
    "import numpy as np\n",
    "\n",
    "x = classes_dic.keys()\n",
    "y = classes_dic.values()\n",
    "\n",
    "print(x)\n",
    "print(y)\n",
    "\n",
    "plt.plot(x, y)\n",
    "plt.show()"
   ]
  },
  {
   "cell_type": "code",
   "execution_count": 13,
   "metadata": {},
   "outputs": [],
   "source": [
    "train_per = 60\n",
    "val_per = 40\n",
    "test_per = 100 - train_per\n",
    "threshold = 5"
   ]
  },
  {
   "cell_type": "code",
   "execution_count": 10,
   "metadata": {},
   "outputs": [],
   "source": [
    "classes_dic_data = {}\n",
    "\n",
    "tmp = dataset_without_id[:,:]\n",
    "\n",
    "\n",
    "for i in tmp:\n",
    "    if i[21] not in classes_dic_data.keys():\n",
    "        classes_dic_data[i[21]] = []\n",
    "    \n",
    "    classes_dic_data[i[21]].append(i)"
   ]
  },
  {
   "cell_type": "code",
   "execution_count": 11,
   "metadata": {},
   "outputs": [
    {
     "name": "stdout",
     "output_type": "stream",
     "text": [
      "ESERO 75974\n",
      "Warning 789812\n",
      "Citation 711469\n",
      "SERO 899\n"
     ]
    }
   ],
   "source": [
    "for i in classes_dic_data.keys():\n",
    "    print(i, len(classes_dic_data[i]))"
   ]
  },
  {
   "cell_type": "code",
   "execution_count": 14,
   "metadata": {},
   "outputs": [
    {
     "name": "stdout",
     "output_type": "stream",
     "text": [
      "ESERO 75974\n",
      "Warning 789812\n",
      "Citation 711469\n",
      "SERO 899\n"
     ]
    }
   ],
   "source": [
    "import sklearn\n",
    "import sklearn.model_selection\n",
    "\n",
    "test = []\n",
    "train = []\n",
    "val = []\n",
    "\n",
    "\n",
    "import random\n",
    "\n",
    "for i in classes_dic_data.keys():\n",
    "    \n",
    "    print(i, len(classes_dic_data[i]))\n",
    "    \n",
    "    if len(classes_dic_data[i]) < threshold:\n",
    "        \n",
    "        for j in classes_dic_data[i]:\n",
    "            train.append(j)\n",
    "            \n",
    "    else:\n",
    "\n",
    "        train_tt, test_t = sklearn.model_selection.train_test_split(classes_dic_data[i], shuffle=True, test_size = test_per/100)\n",
    "        \n",
    "        train_t, val_t = sklearn.model_selection.train_test_split(train_tt, shuffle=True, test_size = val_per/100)\n",
    "        \n",
    "        for j in train_t:\n",
    "            train.append(j)\n",
    "        \n",
    "        for j in test_t:\n",
    "            test.append(j)\n",
    "        \n",
    "        for j in val_t:\n",
    "            val.append(j)\n"
   ]
  },
  {
   "cell_type": "code",
   "execution_count": 15,
   "metadata": {},
   "outputs": [
    {
     "name": "stdout",
     "output_type": "stream",
     "text": [
      "Train 568133\n",
      "Test 631263\n",
      "Val 378758\n",
      "Total 1578154\n"
     ]
    }
   ],
   "source": [
    "print(\"Train\",len(train))\n",
    "print(\"Test\",len(test)) \n",
    "print(\"Val\",len(val))\n",
    "print(\"Total\", len(train)+len(test)+len(val)) # 2916697"
   ]
  },
  {
   "cell_type": "code",
   "execution_count": 16,
   "metadata": {},
   "outputs": [],
   "source": [
    "train = np.array(train)\n",
    "test = np.array(test)\n",
    "val = np.array(val)"
   ]
  },
  {
   "cell_type": "code",
   "execution_count": 18,
   "metadata": {},
   "outputs": [],
   "source": [
    "for i in range(train.shape[1]):\n",
    "    cl = i\n",
    "    dt = train[:,i]\n",
    "    for j in range(dt.shape[0]):\n",
    "        train[j][i] = one_hot[i][train[j][i]]"
   ]
  },
  {
   "cell_type": "code",
   "execution_count": 19,
   "metadata": {},
   "outputs": [],
   "source": [
    "for i in range(test.shape[1]):\n",
    "    cl = i\n",
    "    dt = test[:,i]\n",
    "    for j in range(dt.shape[0]):\n",
    "        test[j][i] = one_hot[i][test[j][i]]"
   ]
  },
  {
   "cell_type": "code",
   "execution_count": 20,
   "metadata": {},
   "outputs": [],
   "source": [
    "for i in range(val.shape[1]):\n",
    "    cl = i\n",
    "    dt = val[:,i]\n",
    "    for j in range(dt.shape[0]):\n",
    "        val[j][i] = one_hot[i][val[j][i]]"
   ]
  },
  {
   "cell_type": "code",
   "execution_count": 21,
   "metadata": {},
   "outputs": [],
   "source": [
    "train_X = np.delete(train,21,axis=1)\n",
    "train_y = train[:,21]\n",
    "test_X = np.delete(test,21,axis=1)\n",
    "test_y = test[:,21]\n",
    "val_X = np.delete(val,21,axis=1)\n",
    "val_y = val[:,21]"
   ]
  },
  {
   "cell_type": "code",
   "execution_count": 22,
   "metadata": {},
   "outputs": [],
   "source": [
    "train_X = train_X.astype(\"int32\")\n",
    "train_y = train_y.astype(\"int32\")\n",
    "test_X = test_X.astype(\"int32\")\n",
    "test_y = test_y.astype(\"int32\")\n",
    "val_X = val_X.astype(\"int32\")\n",
    "val_y = val_y.astype(\"int32\")"
   ]
  },
  {
   "cell_type": "code",
   "execution_count": 23,
   "metadata": {},
   "outputs": [
    {
     "name": "stderr",
     "output_type": "stream",
     "text": [
      "/home/srajat/anaconda3/envs/col865/lib/python3.8/site-packages/tqdm/auto.py:22: TqdmWarning: IProgress not found. Please update jupyter and ipywidgets. See https://ipywidgets.readthedocs.io/en/stable/user_install.html\n",
      "  from .autonotebook import tqdm as notebook_tqdm\n"
     ]
    },
    {
     "name": "stdout",
     "output_type": "stream",
     "text": [
      "cpu\n",
      "Device used : cpu\n",
      "epoch 0  | loss: 0.28093 | val_0_accuracy: 0.9385  |  0:00:48s\n",
      "epoch 1  | loss: 0.21651 | val_0_accuracy: 0.93932 |  0:01:28s\n",
      "epoch 2  | loss: 0.20995 | val_0_accuracy: 0.93933 |  0:02:09s\n",
      "epoch 3  | loss: 0.20712 | val_0_accuracy: 0.93993 |  0:02:54s\n",
      "epoch 4  | loss: 0.2056  | val_0_accuracy: 0.94001 |  0:03:35s\n",
      "Stop training because you reached max_epochs = 5 with best_epoch = 4 and best_val_0_accuracy = 0.94001\n",
      "Best weights from best epoch are automatically used!\n"
     ]
    }
   ],
   "source": [
    "import torch\n",
    "device = torch.device(\"cuda:0\" if torch.cuda.is_available() else \"cpu\")\n",
    "\n",
    "\n",
    "print(device)\n",
    "\n",
    "\n",
    "\n",
    "from pytorch_tabnet.tab_model import TabNetClassifier, TabNetRegressor\n",
    "\n",
    "clf = TabNetClassifier(device_name=device)\n",
    "\n",
    "clf.fit(\n",
    "      train_X, \n",
    "      train_y,\n",
    "      eval_set=[(val_X, val_y)],\n",
    "      max_epochs = 5\n",
    ")\n",
    "\n",
    "preds = clf.predict(test_X)"
   ]
  },
  {
   "cell_type": "markdown",
   "metadata": {},
   "source": [
    "### 1. training the model"
   ]
  },
  {
   "cell_type": "code",
   "execution_count": 24,
   "metadata": {},
   "outputs": [
    {
     "name": "stdout",
     "output_type": "stream",
     "text": [
      "[0]\n",
      "0\n"
     ]
    }
   ],
   "source": [
    "print(clf.predict([test_X[0]]))\n",
    "print(test_y[0])"
   ]
  },
  {
   "cell_type": "markdown",
   "metadata": {},
   "source": [
    "### 2. testing the model"
   ]
  },
  {
   "cell_type": "code",
   "execution_count": 25,
   "metadata": {},
   "outputs": [],
   "source": [
    "true_res = 0\n",
    "\n",
    "res = clf.predict(test_X)"
   ]
  },
  {
   "cell_type": "code",
   "execution_count": 26,
   "metadata": {},
   "outputs": [
    {
     "data": {
      "text/plain": [
       "array([0, 2, 0, ..., 3, 3, 3], dtype=int32)"
      ]
     },
     "execution_count": 26,
     "metadata": {},
     "output_type": "execute_result"
    }
   ],
   "source": [
    "res"
   ]
  },
  {
   "cell_type": "code",
   "execution_count": 27,
   "metadata": {},
   "outputs": [
    {
     "name": "stdout",
     "output_type": "stream",
     "text": [
      "0.9405065717458492\n"
     ]
    }
   ],
   "source": [
    "for i in range(res.shape[0]):\n",
    "    if(res[i] == test_y[i]):\n",
    "        true_res +=1\n",
    "\n",
    "accuracy = true_res/test_X.shape[0]\n",
    "print(accuracy)"
   ]
  },
  {
   "cell_type": "markdown",
   "metadata": {},
   "source": [
    "### checking if we get right"
   ]
  },
  {
   "cell_type": "code",
   "execution_count": 34,
   "metadata": {},
   "outputs": [],
   "source": [
    "def plot_confusion_matrix(cm,\n",
    "                          target_names,\n",
    "                          title='Confusion matrix',\n",
    "                          cmap=None,\n",
    "                          normalize=True):\n",
    "    \"\"\"\n",
    "    given a sklearn confusion matrix (cm), make a nice plot\n",
    "\n",
    "    Arguments\n",
    "    ---------\n",
    "    cm:           confusion matrix from sklearn.metrics.confusion_matrix\n",
    "\n",
    "    target_names: given classification classes such as [0, 1, 2]\n",
    "                  the class names, for example: ['high', 'medium', 'low']\n",
    "\n",
    "    title:        the text to display at the top of the matrix\n",
    "\n",
    "    cmap:         the gradient of the values displayed from matplotlib.pyplot.cm\n",
    "                  see http://matplotlib.org/examples/color/colormaps_reference.html\n",
    "                  plt.get_cmap('jet') or plt.cm.Blues\n",
    "\n",
    "    normalize:    If False, plot the raw numbers\n",
    "                  If True, plot the proportions\n",
    "\n",
    "    Usage\n",
    "    -----\n",
    "    plot_confusion_matrix(cm           = cm,                  # confusion matrix created by\n",
    "                                                              # sklearn.metrics.confusion_matrix\n",
    "                          normalize    = True,                # show proportions\n",
    "                          target_names = y_labels_vals,       # list of names of the classes\n",
    "                          title        = best_estimator_name) # title of graph\n",
    "\n",
    "    Citiation\n",
    "    ---------\n",
    "    http://scikit-learn.org/stable/auto_examples/model_selection/plot_confusion_matrix.html\n",
    "\n",
    "    \"\"\"\n",
    "    import matplotlib.pyplot as plt\n",
    "    import numpy as np\n",
    "    import itertools\n",
    "    \n",
    "    \n",
    "\n",
    "    accuracy = np.trace(cm) / float(np.sum(cm))\n",
    "    misclass = 1 - accuracy\n",
    "\n",
    "    if cmap is None:\n",
    "        cmap = plt.get_cmap('Blues')\n",
    "\n",
    "    plt.figure(figsize=(5,5))\n",
    "    #plt.figure()\n",
    "    plt.imshow(cm, interpolation='nearest', cmap=cmap)\n",
    "    plt.title(title)\n",
    "    plt.colorbar()\n",
    "\n",
    "    if target_names is not None:\n",
    "        tick_marks = np.arange(len(target_names))\n",
    "        plt.xticks(tick_marks, target_names, rotation=45)\n",
    "        plt.yticks(tick_marks, target_names)\n",
    "\n",
    "    if normalize:\n",
    "        cm = cm.astype('float') / cm.sum(axis=1)[:, np.newaxis]\n",
    "\n",
    "\n",
    "    thresh = cm.max() / 1.5 if normalize else cm.max() / 2\n",
    "    for i, j in itertools.product(range(cm.shape[0]), range(cm.shape[1])):\n",
    "        if normalize:\n",
    "            plt.text(j, i, \"{:0.4f}\".format(cm[i, j]),\n",
    "                     horizontalalignment=\"center\",\n",
    "                     color=\"white\" if cm[i, j] > thresh else \"black\")\n",
    "        else:\n",
    "            plt.text(j, i, \"{:,}\".format(cm[i, j]),\n",
    "                     horizontalalignment=\"center\",\n",
    "                     color=\"white\" if cm[i, j] > thresh else \"black\")\n",
    "\n",
    "\n",
    "    plt.tight_layout()\n",
    "    plt.ylabel('True label')\n",
    "    plt.xlabel('Predicted label\\naccuracy={:0.4f}; misclass={:0.4f}'.format(accuracy, misclass))\n",
    "    plt.savefig(\"fig_d2_tabnet.png\")\n",
    "    plt.show()"
   ]
  },
  {
   "cell_type": "code",
   "execution_count": 29,
   "metadata": {},
   "outputs": [],
   "source": [
    "classes = list(set(test_y))\n",
    "\n",
    "dic = {}\n",
    "for i in range(len(classes)):\n",
    "    dic[classes[i]] = i\n",
    "\n",
    "cnf_array = []\n",
    "for i in range(len(classes)):\n",
    "    cnf_array.append([0]*len(classes))\n",
    "\n",
    "for i in range(res.shape[0]):\n",
    "    cnf_array[dic[test_y[i]]][dic[res[i]]]+=1"
   ]
  },
  {
   "cell_type": "code",
   "execution_count": 30,
   "metadata": {},
   "outputs": [
    {
     "name": "stdout",
     "output_type": "stream",
     "text": [
      "[[21574, 5509, 3164, 143], [719, 289937, 25269, 0], [1103, 1640, 281845, 0], [2, 0, 7, 351]]\n"
     ]
    }
   ],
   "source": [
    "print(cnf_array)"
   ]
  },
  {
   "cell_type": "code",
   "execution_count": 35,
   "metadata": {},
   "outputs": [
    {
     "data": {
      "image/png": "[encoded data removed]",
      "text/plain": [
       "<Figure size 500x500 with 2 Axes>"
      ]
     },
     "metadata": {},
     "output_type": "display_data"
    }
   ],
   "source": [
    "plot_confusion_matrix(cm= np.array(cnf_array), \n",
    "                      normalize    = False,\n",
    "                      target_names = classes,\n",
    "                      title        = \"Confusion Matrix\")"
   ]
  },
  {
   "cell_type": "code",
   "execution_count": null,
   "metadata": {},
   "outputs": [],
   "source": []
  },
  {
   "cell_type": "code",
   "execution_count": null,
   "metadata": {},
   "outputs": [],
   "source": []
  }
 ],
 "metadata": {
  "kernelspec": {
   "display_name": "col865",
   "language": "python",
   "name": "col865"
  },
  "language_info": {
   "codemirror_mode": {
    "name": "ipython",
    "version": 3
   },
   "file_extension": ".py",
   "mimetype": "text/x-python",
   "name": "python",
   "nbconvert_exporter": "python",
   "pygments_lexer": "ipython3",
   "version": "3.8.13"
  }
 },
 "nbformat": 4,
 "nbformat_minor": 5
}
