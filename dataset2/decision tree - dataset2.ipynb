{
 "cells": [
  {
   "cell_type": "markdown",
   "id": "d110774a",
   "metadata": {},
   "source": [
    "### Reading the dataset"
   ]
  },
  {
   "cell_type": "code",
   "execution_count": null,
   "id": "afe82e95",
   "metadata": {},
   "outputs": [],
   "source": [
    "import numpy as np"
   ]
  },
  {
   "cell_type": "code",
   "execution_count": null,
   "id": "80224b02",
   "metadata": {},
   "outputs": [],
   "source": [
    "f1 = open(\"dataset2/dataset.arff\")"
   ]
  },
  {
   "cell_type": "markdown",
   "id": "9dca0570",
   "metadata": {},
   "source": [
    "### Removing the unwanted lines"
   ]
  },
  {
   "cell_type": "code",
   "execution_count": null,
   "id": "bf81d136",
   "metadata": {},
   "outputs": [],
   "source": [
    "line = f1.readline()\n",
    "\n",
    "i = 0\n",
    "while(line):\n",
    "    line = f1.readline()\n",
    "    if i==47:\n",
    "        break\n",
    "    \n",
    "    i+=1"
   ]
  },
  {
   "cell_type": "code",
   "execution_count": null,
   "id": "668a95db",
   "metadata": {},
   "outputs": [],
   "source": [
    "print(line)"
   ]
  },
  {
   "cell_type": "markdown",
   "id": "f811906f",
   "metadata": {},
   "source": [
    "### Reading the actual dataset"
   ]
  },
  {
   "cell_type": "code",
   "execution_count": null,
   "id": "bdaa762d",
   "metadata": {},
   "outputs": [],
   "source": [
    "dataset_tmp = []\n",
    "dataset_tmp.append(line)\n",
    "\n",
    "while line:\n",
    "    line = f1.readline()\n",
    "    \n",
    "    if line == '':\n",
    "        break\n",
    "    \n",
    "    dataset_tmp.append(line)\n"
   ]
  },
  {
   "cell_type": "code",
   "execution_count": null,
   "id": "58d518b2",
   "metadata": {},
   "outputs": [],
   "source": [
    "print(\"length of the dataset\", len(dataset_tmp))"
   ]
  },
  {
   "cell_type": "code",
   "execution_count": null,
   "id": "9c3ba452",
   "metadata": {},
   "outputs": [],
   "source": [
    "print(dataset_tmp[0])"
   ]
  },
  {
   "cell_type": "code",
   "execution_count": null,
   "id": "28ea4824",
   "metadata": {},
   "outputs": [],
   "source": [
    "def custom_parser(text):\n",
    "    list_word = []\n",
    "    text = text[:-1]\n",
    "    \n",
    "    word = \"\"\n",
    "    \n",
    "    i=0\n",
    "    while(i<len(text)):\n",
    "        if text[i] == ',':\n",
    "            list_word.append(word)\n",
    "            word=\"\"\n",
    "        \n",
    "        elif text[i] == '\\'':\n",
    "            i+=1\n",
    "            \n",
    "            while (text[i] != '\\''):\n",
    "                word=word+text[i]\n",
    "                i+=1\n",
    "                \n",
    "                if(i<len(text)-1):\n",
    "                    if(text[i]=='\\'' and text[i+1]!=','):\n",
    "                        word = word+'\\''\n",
    "                        i+=1\n",
    "        \n",
    "        else:\n",
    "            word = word+text[i]\n",
    "        \n",
    "        i+=1\n",
    "        \n",
    "    list_word.append(word)\n",
    "    return list_word"
   ]
  },
  {
   "cell_type": "code",
   "execution_count": null,
   "id": "39e7980d",
   "metadata": {},
   "outputs": [],
   "source": [
    "custom_parser(\"fdcc1a6b-4854-4cde-bb60-248f478fa5b6,09/11/2019,09:56:00,MCP,'2nd District, Bethesda','STOP LIGHTS (*)','27 @ SWEEPSTAKES RD',39.259626666666705,-77.22376,No,No,No,No,No,No,No,No,No,No,?,?,?,?,?,?,?,MD,'02 - Automobile',2005,NISSAN,MURANO,MAROON,ESERO,64*,?,False,HISPANIC,F,DAMASCUS,MD,MD,'B - Unmarked Patrol','(39.2596266666667, -77.22376)'\\n\")"
   ]
  },
  {
   "cell_type": "code",
   "execution_count": null,
   "id": "ff23fc3b",
   "metadata": {},
   "outputs": [],
   "source": [
    "dataset= []\n",
    "\n",
    "for i in dataset_tmp:\n",
    "    #print(i)\n",
    "    dataset.append(custom_parser(i))"
   ]
  },
  {
   "cell_type": "code",
   "execution_count": null,
   "id": "309ad6df",
   "metadata": {},
   "outputs": [],
   "source": [
    "# ! /home/rajat1/anaconda3/envs/col865/bin/pip install pandas"
   ]
  },
  {
   "cell_type": "code",
   "execution_count": null,
   "id": "3ff304f2",
   "metadata": {},
   "outputs": [],
   "source": [
    "# ! /home/rajat1/anaconda3/envs/col865/bin/pip install numpy"
   ]
  },
  {
   "cell_type": "code",
   "execution_count": null,
   "id": "b1616a67",
   "metadata": {},
   "outputs": [],
   "source": [
    "import pandas as pd\n",
    "import numpy as np"
   ]
  },
  {
   "cell_type": "code",
   "execution_count": null,
   "id": "a0bca8cc",
   "metadata": {},
   "outputs": [],
   "source": [
    "dataset_np = np.array(dataset)"
   ]
  },
  {
   "cell_type": "code",
   "execution_count": null,
   "id": "76a90108",
   "metadata": {},
   "outputs": [],
   "source": [
    "dataset_np.shape"
   ]
  },
  {
   "cell_type": "code",
   "execution_count": null,
   "id": "272bd098",
   "metadata": {},
   "outputs": [],
   "source": [
    "dataset_np"
   ]
  },
  {
   "cell_type": "markdown",
   "id": "f22a87be",
   "metadata": {},
   "source": [
    "### saving the cleaned dataset to a pickle file  "
   ]
  },
  {
   "cell_type": "code",
   "execution_count": null,
   "id": "f3757b23",
   "metadata": {},
   "outputs": [],
   "source": [
    "import pickle\n",
    "\n",
    "with open('dataset2/raw_dataset1.pickle', 'wb') as handle:\n",
    "    pickle.dump(dataset_np, handle, protocol=pickle.HIGHEST_PROTOCOL)\n"
   ]
  },
  {
   "cell_type": "markdown",
   "id": "b441a72e",
   "metadata": {},
   "source": [
    "### Reading saved data from the pickle file"
   ]
  },
  {
   "cell_type": "code",
   "execution_count": 1,
   "id": "deb6ad60",
   "metadata": {},
   "outputs": [
    {
     "name": "stdout",
     "output_type": "stream",
     "text": [
      "(1578154, 43)\n"
     ]
    }
   ],
   "source": [
    "import pickle\n",
    "with open('dataset2/raw_dataset.pickle', 'rb') as handle:\n",
    "    dataset_np = pickle.load(handle)\n",
    "\n",
    "print(dataset_np.shape)"
   ]
  },
  {
   "cell_type": "markdown",
   "id": "f2860b1e",
   "metadata": {},
   "source": [
    "### visualizing the data"
   ]
  },
  {
   "cell_type": "code",
   "execution_count": 2,
   "id": "c7ff8c5b",
   "metadata": {
    "scrolled": true
   },
   "outputs": [],
   "source": [
    "for j in range(dataset_np.shape[1]):\n",
    "    \n",
    "    k = dataset_np[:,j]\n",
    "    cnt=0\n",
    "\n",
    "    for i in k:\n",
    "        if i == \"?\":\n",
    "            cnt+=1\n",
    "\n",
    "    print(\"Number of missing values in column\",j+1,\":\",cnt)"
   ]
  },
  {
   "cell_type": "code",
   "execution_count": 3,
   "id": "a80daa6b",
   "metadata": {
    "scrolled": true
   },
   "outputs": [],
   "source": [
    "# print(\"shape of the dataset :\",dataset_np.shape)\n",
    "\n",
    "# for i in range(dataset_np.shape[1]):\n",
    "#     print(\"Unique values in column\",i+1,\":\",len(list(set(dataset_np[:,i]))))"
   ]
  },
  {
   "cell_type": "code",
   "execution_count": 4,
   "id": "2324d017",
   "metadata": {
    "scrolled": false
   },
   "outputs": [
    {
     "name": "stdout",
     "output_type": "stream",
     "text": [
      "Number of missing values in column 1 : 0 , Unique Values : 895102\n",
      "Number of missing values in column 2 : 0 , Unique Values : 2810\n",
      "Number of missing values in column 3 : 0 , Unique Values : 1440\n",
      "Number of missing values in column 4 : 0 , Unique Values : 1\n",
      "Number of missing values in column 5 : 0 , Unique Values : 9\n",
      "Number of missing values in column 6 : 9 , Unique Values : 14268\n",
      "Number of missing values in column 7 : 2 , Unique Values : 214969\n",
      "Number of missing values in column 8 : 0 , Unique Values : 302145\n",
      "Number of missing values in column 9 : 0 , Unique Values : 343293\n",
      "Number of missing values in column 10 : 0 , Unique Values : 2\n",
      "Number of missing values in column 11 : 0 , Unique Values : 2\n",
      "Number of missing values in column 12 : 0 , Unique Values : 2\n",
      "Number of missing values in column 13 : 0 , Unique Values : 2\n",
      "Number of missing values in column 14 : 0 , Unique Values : 2\n",
      "Number of missing values in column 15 : 0 , Unique Values : 2\n",
      "Number of missing values in column 16 : 0 , Unique Values : 2\n",
      "Number of missing values in column 17 : 0 , Unique Values : 2\n",
      "Number of missing values in column 18 : 0 , Unique Values : 2\n",
      "Number of missing values in column 19 : 0 , Unique Values : 2\n",
      "Number of missing values in column 20 : 600828 , Unique Values : 3\n",
      "Number of missing values in column 21 : 1509055 , Unique Values : 6\n",
      "Number of missing values in column 22 : 619994 , Unique Values : 6\n",
      "Number of missing values in column 23 : 1509055 , Unique Values : 10\n",
      "Number of missing values in column 24 : 600998 , Unique Values : 752\n",
      "Number of missing values in column 25 : 1509063 , Unique Values : 5\n",
      "Number of missing values in column 26 : 1531303 , Unique Values : 10\n",
      "Number of missing values in column 27 : 59 , Unique Values : 71\n",
      "Number of missing values in column 28 : 0 , Unique Values : 33\n",
      "Number of missing values in column 29 : 9647 , Unique Values : 355\n",
      "Number of missing values in column 30 : 9762 , Unique Values : 3985\n",
      "Number of missing values in column 31 : 9909 , Unique Values : 19463\n",
      "Number of missing values in column 32 : 18657 , Unique Values : 27\n",
      "Number of missing values in column 33 : 0 , Unique Values : 4\n",
      "Number of missing values in column 34 : 0 , Unique Values : 1086\n",
      "Number of missing values in column 35 : 76873 , Unique Values : 5\n",
      "Number of missing values in column 36 : 0 , Unique Values : 2\n",
      "Number of missing values in column 37 : 0 , Unique Values : 6\n",
      "Number of missing values in column 38 : 0 , Unique Values : 3\n",
      "Number of missing values in column 39 : 387 , Unique Values : 8088\n",
      "Number of missing values in column 40 : 11 , Unique Values : 69\n",
      "Number of missing values in column 41 : 929 , Unique Values : 71\n",
      "Number of missing values in column 42 : 0 , Unique Values : 19\n",
      "Number of missing values in column 43 : 0 , Unique Values : 774176\n"
     ]
    }
   ],
   "source": [
    "for j in range(dataset_np.shape[1]):\n",
    "    \n",
    "    k = dataset_np[:,j]\n",
    "    cnt=0\n",
    "\n",
    "    for i in k:\n",
    "        if i == \"?\":\n",
    "            cnt+=1\n",
    "            \n",
    "    print(\"Number of missing values in column\",j+1,\":\",cnt,\", Unique Values :\",len(list(set(dataset_np[:,j]))))"
   ]
  },
  {
   "cell_type": "code",
   "execution_count": 5,
   "id": "396af5c7",
   "metadata": {},
   "outputs": [],
   "source": [
    "# We have to predict column-33\n",
    "\n",
    "\n",
    "#1 seqid STRING\n",
    "#2 date_of_stop STRING\n",
    "#3 time_of_stop STRING\n",
    "#4 agency STRING\n",
    "#5 subagency STRING\n",
    "#6 description STRING\n",
    "#7 location STRING\n",
    "#8 latitude REAL\n",
    "#9 longitude REAL\n",
    "#10 accident STRING\n",
    "#11 belts STRING\n",
    "#12 personal_injury STRING\n",
    "#13 property_damage STRING\n",
    "#14 fatal STRING\n",
    "#15 commercial_license STRING\n",
    "#16 hazmat STRING\n",
    "#17 commercial_vehicle STRING\n",
    "#18 alcohol STRING\n",
    "#19 work_zone STRING\n",
    "#20 search_conducted STRING\n",
    "#21 search_disposition STRING\n",
    "#22 search_outcome STRING\n",
    "#23 search_reason STRING\n",
    "#24 search_reason_for_stop STRING\n",
    "#25 search_type STRING\n",
    "#26 search_arrest_reason STRING\n",
    "#27 state STRING\n",
    "#28 vehicletype {'01 - Motorcycle', '02 - Automobile', '03 - Station Wagon', '04 - Limousine', '05 - Light Duty Truck', '06 - Heavy Duty Truck', '07 - Truck/Road Tractor', '08 - Recreational Vehicle', '09 - Farm Vehicle', '10 - Transit Bus', '11 - Cross Country Bus', '12 - School Bus', '13 - Ambulance', '13 - Ambulance(Emerg)', '14 - Ambulance', '14 - Ambulance(Non-Emerg)', '15 - Fire Vehicle', '15 - Fire(Emerg)', '16 - Fire(Non-Emerg)', '17 - Police(Emerg)', '18 - Police Vehicle', '18 - Police(Non-Emerg)', '19 - Moped', '20 - Commercial Rig', '21 - Tandem Trailer', '22 - Mobile Home', '23 - Travel/Home Trailer', '24 - Camper', '25 - Utility Trailer', '26 - Boat Trailer', '27 - Farm Equipment', '28 - Other', '29 - Unknown'}\n",
    "#29 year INTEGER\n",
    "#30 make STRING\n",
    "#31 model STRING\n",
    "#32 color STRING\n",
    "#33 violation_type {Citation, ESERO, SERO, Warning}\n",
    "#34 charge STRING\n",
    "#35 article STRING\n",
    "#36 contributed_to_accident {True, False}\n",
    "#37 race {ASIAN, BLACK, HISPANIC, 'NATIVE AMERICAN', OTHER, WHITE}\n",
    "#38 gender STRING\n",
    "#39 driver_city STRING\n",
    "#40 driver_state STRING\n",
    "#41 dl_state STRING\n",
    "#42 arrest_type {'A - Marked Patrol', 'B - Unmarked Patrol', 'C - Marked VASCAR', 'D - Unmarked VASCAR', 'E - Marked Stationary Radar', 'F - Unmarked Stationary Radar', 'G - Marked Moving Radar (Stationary)', 'H - Unmarked Moving Radar (Stationary)', 'I - Marked Moving Radar (Moving)', 'J - Unmarked Moving Radar (Moving)', 'K - Aircraft Assist', 'L - Motorcycle', 'M - Marked (Off-Duty)', 'N - Unmarked (Off-Duty)', 'O - Foot Patrol', 'P - Mounted Patrol', 'Q - Marked Laser', 'R - Unmarked Laser', 'S - License Plate Recognition'}\n",
    "#43 geolocation STRING"
   ]
  },
  {
   "cell_type": "code",
   "execution_count": 6,
   "id": "2afcd0a5",
   "metadata": {},
   "outputs": [],
   "source": [
    "import numpy as np\n",
    "# Deleting the 4th column as it is of no use only one unique value is there.\n",
    "# Deleting the 20th, 22th, 25th, 26th columns as majority of the values are missing there.\n",
    "\n",
    "dataset_np = np.delete(dataset_np,[3,20,22,24,25,28,29,30,31,38,39,40],axis=1)\n"
   ]
  },
  {
   "cell_type": "code",
   "execution_count": null,
   "id": "e373c113",
   "metadata": {},
   "outputs": [],
   "source": [
    "#1 seqid STRING\n",
    "#2 date_of_stop STRING\n",
    "#3 time_of_stop STRING\n",
    "#\n",
    "#5 subagency STRING\n",
    "#6 description STRING\n",
    "#7 location STRING\n",
    "#8 latitude REAL\n",
    "#9 longitude REAL\n",
    "#10 accident STRING\n",
    "#11 belts STRING\n",
    "#12 personal_injury STRING\n",
    "#13 property_damage STRING\n",
    "#14 fatal STRING\n",
    "#15 commercial_license STRING\n",
    "#16 hazmat STRING\n",
    "#17 commercial_vehicle STRING\n",
    "#18 alcohol STRING\n",
    "#19 work_zone STRING\n",
    "#20 search_conducted STRING\n",
    "#\n",
    "#22 search_outcome STRING\n",
    "#\n",
    "#24 search_reason_for_stop STRING\n",
    "#\n",
    "#\n",
    "#27 state STRING\n",
    "#28 vehicletype {'01 - Motorcycle', '02 - Automobile', '03 - Station Wagon', '04 - Limousine', '05 - Light Duty Truck', '06 - Heavy Duty Truck', '07 - Truck/Road Tractor', '08 - Recreational Vehicle', '09 - Farm Vehicle', '10 - Transit Bus', '11 - Cross Country Bus', '12 - School Bus', '13 - Ambulance', '13 - Ambulance(Emerg)', '14 - Ambulance', '14 - Ambulance(Non-Emerg)', '15 - Fire Vehicle', '15 - Fire(Emerg)', '16 - Fire(Non-Emerg)', '17 - Police(Emerg)', '18 - Police Vehicle', '18 - Police(Non-Emerg)', '19 - Moped', '20 - Commercial Rig', '21 - Tandem Trailer', '22 - Mobile Home', '23 - Travel/Home Trailer', '24 - Camper', '25 - Utility Trailer', '26 - Boat Trailer', '27 - Farm Equipment', '28 - Other', '29 - Unknown'}\n",
    "#\n",
    "#\n",
    "#\n",
    "#\n",
    "#33 violation_type {Citation, ESERO, SERO, Warning}\n",
    "#34 charge STRING\n",
    "#35 article STRING\n",
    "#36 contributed_to_accident {True, False}\n",
    "#37 race {ASIAN, BLACK, HISPANIC, 'NATIVE AMERICAN', OTHER, WHITE}\n",
    "#38 gender STRING\n",
    "#\n",
    "#\n",
    "#\n",
    "#42 arrest_type {'A - Marked Patrol', 'B - Unmarked Patrol', 'C - Marked VASCAR', 'D - Unmarked VASCAR', 'E - Marked Stationary Radar', 'F - Unmarked Stationary Radar', 'G - Marked Moving Radar (Stationary)', 'H - Unmarked Moving Radar (Stationary)', 'I - Marked Moving Radar (Moving)', 'J - Unmarked Moving Radar (Moving)', 'K - Aircraft Assist', 'L - Motorcycle', 'M - Marked (Off-Duty)', 'N - Unmarked (Off-Duty)', 'O - Foot Patrol', 'P - Mounted Patrol', 'Q - Marked Laser', 'R - Unmarked Laser', 'S - License Plate Recognition'}\n",
    "#43 geolocation STRING"
   ]
  },
  {
   "cell_type": "code",
   "execution_count": null,
   "id": "08874c75",
   "metadata": {},
   "outputs": [],
   "source": [
    "for j in range(dataset_np.shape[1]):\n",
    "    \n",
    "    k = dataset_np[:,j]\n",
    "    cnt=0\n",
    "\n",
    "    for i in k:\n",
    "        if i == \"?\":\n",
    "            cnt+=1\n",
    "\n",
    "    print(\"Number of missing values in column\",j+1,\":\",cnt,\", Unique Values :\",len(list(set(dataset_np[:,j]))))"
   ]
  },
  {
   "cell_type": "code",
   "execution_count": null,
   "id": "3d0c9e02",
   "metadata": {},
   "outputs": [],
   "source": [
    "# We have to predict column-28\n",
    "\n",
    "\n",
    "#1 seqid STRING\n",
    "#2 date_of_stop STRING\n",
    "#3 time_of_stop STRING\n",
    "#\n",
    "#4 subagency STRING\n",
    "#5 description STRING --- need to impute (unique values 14268) ->done\n",
    "#6 location STRING --- need to impute (unique values 214969) ->done\n",
    "#7 latitude REAL\n",
    "#8 longitude REAL\n",
    "#9 accident STRING\n",
    "#10 belts STRING\n",
    "#11 personal_injury STRING\n",
    "#12 property_damage STRING\n",
    "#13 fatal STRING\n",
    "#14 commercial_license STRING\n",
    "#15 hazmat STRING\n",
    "#16 commercial_vehicle STRING\n",
    "#17 alcohol STRING\n",
    "#18 work_zone STRING\n",
    "#19 search_conducted STRING --- need to impute\n",
    "#\n",
    "#20 search_outcome STRING --- need to impute\n",
    "#\n",
    "#21 search_reason_for_stop STRING --- need to impute\n",
    "#\n",
    "#\n",
    "#22 state STRING --- need to impute ->done\n",
    "#23 vehicletype {'01 - Motorcycle', '02 - Automobile', '03 - Station Wagon', '04 - Limousine', '05 - Light Duty Truck', '06 - Heavy Duty Truck', '07 - Truck/Road Tractor', '08 - Recreational Vehicle', '09 - Farm Vehicle', '10 - Transit Bus', '11 - Cross Country Bus', '12 - School Bus', '13 - Ambulance', '13 - Ambulance(Emerg)', '14 - Ambulance', '14 - Ambulance(Non-Emerg)', '15 - Fire Vehicle', '15 - Fire(Emerg)', '16 - Fire(Non-Emerg)', '17 - Police(Emerg)', '18 - Police Vehicle', '18 - Police(Non-Emerg)', '19 - Moped', '20 - Commercial Rig', '21 - Tandem Trailer', '22 - Mobile Home', '23 - Travel/Home Trailer', '24 - Camper', '25 - Utility Trailer', '26 - Boat Trailer', '27 - Farm Equipment', '28 - Other', '29 - Unknown'}\n",
    "#\n",
    "# \n",
    "#\n",
    "#\n",
    "#24 violation_type {Citation, ESERO, SERO, Warning}\n",
    "#25 charge STRING\n",
    "#26 article STRING --- need to impute ->done\n",
    "#27 contributed_to_accident {True, False}\n",
    "#28 race {ASIAN, BLACK, HISPANIC, 'NATIVE AMERICAN', OTHER, WHITE}\n",
    "#29 gender STRING\n",
    "#\n",
    "#\n",
    "#\n",
    "#30 arrest_type {'A - Marked Patrol', 'B - Unmarked Patrol', 'C - Marked VASCAR', 'D - Unmarked VASCAR', 'E - Marked Stationary Radar', 'F - Unmarked Stationary Radar', 'G - Marked Moving Radar (Stationary)', 'H - Unmarked Moving Radar (Stationary)', 'I - Marked Moving Radar (Moving)', 'J - Unmarked Moving Radar (Moving)', 'K - Aircraft Assist', 'L - Motorcycle', 'M - Marked (Off-Duty)', 'N - Unmarked (Off-Duty)', 'O - Foot Patrol', 'P - Mounted Patrol', 'Q - Marked Laser', 'R - Unmarked Laser', 'S - License Plate Recognition'}\n",
    "#31 geolocation STRING"
   ]
  },
  {
   "cell_type": "code",
   "execution_count": 20,
   "id": "0a5e21e7",
   "metadata": {},
   "outputs": [
    {
     "data": {
      "text/plain": [
       "(1578154, 31)"
      ]
     },
     "execution_count": 20,
     "metadata": {},
     "output_type": "execute_result"
    }
   ],
   "source": [
    "import copy\n",
    "# dataset_without_id=np.delete(dataset_np,0, axis=1)\n",
    "dataset_without_id = copy.deepcopy(dataset_np)\n",
    "dataset_without_id.shape"
   ]
  },
  {
   "cell_type": "code",
   "execution_count": 8,
   "id": "d5f4a02f",
   "metadata": {},
   "outputs": [],
   "source": [
    "from collections import Counter\n",
    "\n",
    "def missing_value_impute_str(col_val, target_val):\n",
    "    dict_val = {}\n",
    "    missing = []\n",
    "    \n",
    "    for i in range(len(col_val)):\n",
    "        \n",
    "        if col_val[i] == \"?\":\n",
    "            missing.append(i)\n",
    "        \n",
    "        else:\n",
    "            if target_val[i] not in dict_val.keys():\n",
    "                dict_val[target_val[i]] = []\n",
    "            \n",
    "            dict_val[target_val[i]].append(col_val[i])\n",
    "    \n",
    "    \n",
    "    dict_val1 = {}\n",
    "    \n",
    "    for i in dict_val.keys():\n",
    "        dd = list(set(dict_val[i]))\n",
    "        \n",
    "        x= Counter(dict_val[i])\n",
    "        x_keys = list(x.keys())\n",
    "        x_values = list(x.values())\n",
    "        \n",
    "        max_k = x_keys[0]\n",
    "        max_val = x_values[0]\n",
    "        \n",
    "        for j in range(len(x_keys)):\n",
    "            if x_values[j] > max_val:\n",
    "                max_k = x_keys[j]\n",
    "                max_val = x_values[j]\n",
    "        \n",
    "        dict_val1[i]= max_k\n",
    "    print(dict_val1)\n",
    "    for i in missing:\n",
    "        try:\n",
    "            col_val[i] = dict_val1[target_val[i]]\n",
    "        except:\n",
    "            print(i,target_val[i])\n",
    "            continue\n",
    "    return col_val\n",
    "\n",
    "def missing_value_impute_29(col_val, target_val):\n",
    "    dict_val = {}\n",
    "    missing = []\n",
    "    \n",
    "    for i in range(len(col_val)):\n",
    "        \n",
    "        if col_val[i] == \"?\":\n",
    "            missing.append(i)\n",
    "        \n",
    "        else:\n",
    "            trg = (target_val[i].strip().split(\"-\"))[0]\n",
    "            trg = (trg.strip().split(\"*\"))[0]\n",
    "            \n",
    "            if trg not in dict_val.keys():\n",
    "                dict_val[trg] = []\n",
    "            \n",
    "            dict_val[trg].append(col_val[i])\n",
    "    \n",
    "    \n",
    "    dict_val1 = {}\n",
    "    \n",
    "    for i in dict_val.keys():\n",
    "        \n",
    "        dd = list(set(dict_val[i]))\n",
    "        \n",
    "        x= Counter(dict_val[i])\n",
    "        x_keys = list(x.keys())\n",
    "        x_values = list(x.values())\n",
    "        \n",
    "        max_k = x_keys[0]\n",
    "        max_val = x_values[0]\n",
    "        \n",
    "        for j in range(len(x_keys)):\n",
    "            if x_values[j] > max_val:\n",
    "                max_k = x_keys[j]\n",
    "                max_val = x_values[j]\n",
    "        \n",
    "        dict_val1[i]= max_k\n",
    "        \n",
    "    print(dict_val1)\n",
    "    # print(missing)\n",
    "    \n",
    "    for i in missing:\n",
    "        trg = (target_val[i].strip().split(\"-\"))[0]\n",
    "        trg = ((trg.strip().split(\"*\")))[0]\n",
    "        try:\n",
    "            \n",
    "            #print(trg)\n",
    "            col_val[i] = dict_val1[trg]\n",
    "            #print(trg)\n",
    "        except:\n",
    "            col_val[i] = dict_val1['21']\n",
    "            continue\n",
    "            \n",
    "    return col_val"
   ]
  },
  {
   "cell_type": "code",
   "execution_count": 26,
   "id": "87b29744",
   "metadata": {},
   "outputs": [
    {
     "data": {
      "text/plain": [
       "['?', 'SERO', 'Arrest', 'Citation', 'Warning', 'Recovered Evidence']"
      ]
     },
     "execution_count": 26,
     "metadata": {},
     "output_type": "execute_result"
    }
   ],
   "source": [
    "list(set(dataset_without_id[:,19]))"
   ]
  },
  {
   "cell_type": "code",
   "execution_count": 27,
   "id": "f5d3f928",
   "metadata": {},
   "outputs": [
    {
     "data": {
      "text/plain": [
       "['SERO', 'Warning', 'Citation', 'ESERO']"
      ]
     },
     "execution_count": 27,
     "metadata": {},
     "output_type": "execute_result"
    }
   ],
   "source": [
    "list(set(dataset_without_id[:,23]))"
   ]
  },
  {
   "cell_type": "code",
   "execution_count": 22,
   "id": "14b68d70",
   "metadata": {
    "scrolled": true
   },
   "outputs": [
    {
     "name": "stdout",
     "output_type": "stream",
     "text": [
      "{'21': 'Transportation Article', '22': 'Transportation Article', '13': 'Transportation Article', '16': 'Transportation Article', '11': 'Maryland Rules', '23': 'Transportation Article', '17': 'Transportation Article', '14': 'Transportation Article', '25': 'Transportation Article', '20': 'Transportation Article', '24': 'Transportation Article', '12': 'Transportation Article', '18': 'Transportation Article', '15': 'Transportation Article', '10': 'BR', '7': 'Transportation Article', '26': 'Transportation Article', '9': 'TG', '2 1': 'Transportation Article', '27': 'Transportation Article', '8': 'Transportation Article'}\n"
     ]
    }
   ],
   "source": [
    "# the problem with this column is that it will not contain the other classes so i can't do the missing value imputation on that\n",
    "\n",
    "dataset_without_id[:,24] = missing_value_impute_29(dataset_without_id[:,25], dataset_without_id[:,24])"
   ]
  },
  {
   "cell_type": "code",
   "execution_count": 23,
   "id": "9f41245b",
   "metadata": {},
   "outputs": [
    {
     "name": "stdout",
     "output_type": "stream",
     "text": [
      "{'ESERO': 'STOP LIGHTS (*)', 'Warning': 'DRIVER FAILURE TO OBEY PROPERLY PLACED TRAFFIC CONTROL DEVICE INSTRUCTIONS', 'Citation': 'DRIVER FAILURE TO OBEY PROPERLY PLACED TRAFFIC CONTROL DEVICE INSTRUCTIONS', 'SERO': 'Stop Lights'}\n",
      "{'ESERO': 'RIVER RD AT GARY RD', 'Warning': 'IS 370 @ IS 270', 'Citation': '10901 WESTLAKE DRIVE', 'SERO': 'SB RT. 355 @ PROFESSIONAL DR'}\n",
      "{'ESERO': 'MD', 'Warning': 'MD', 'Citation': 'MD', 'SERO': 'MD'}\n"
     ]
    }
   ],
   "source": [
    "dataset_without_id[:,4] = missing_value_impute_str(dataset_without_id[:,4], dataset_without_id[:,23])\n",
    "dataset_without_id[:,5] = missing_value_impute_str(dataset_without_id[:,5], dataset_without_id[:,23])\n",
    "dataset_without_id[:,21] = missing_value_impute_str(dataset_without_id[:,21], dataset_without_id[:,23])"
   ]
  },
  {
   "cell_type": "code",
   "execution_count": 24,
   "id": "6871693e",
   "metadata": {},
   "outputs": [
    {
     "name": "stdout",
     "output_type": "stream",
     "text": [
      "Number of missing values in column 1 : 0 , Unique Values : 895102\n",
      "Number of missing values in column 2 : 0 , Unique Values : 2810\n",
      "Number of missing values in column 3 : 0 , Unique Values : 1440\n",
      "Number of missing values in column 4 : 0 , Unique Values : 9\n",
      "Number of missing values in column 5 : 0 , Unique Values : 14267\n",
      "Number of missing values in column 6 : 0 , Unique Values : 214968\n",
      "Number of missing values in column 7 : 0 , Unique Values : 302145\n",
      "Number of missing values in column 8 : 0 , Unique Values : 343293\n",
      "Number of missing values in column 9 : 0 , Unique Values : 2\n",
      "Number of missing values in column 10 : 0 , Unique Values : 2\n",
      "Number of missing values in column 11 : 0 , Unique Values : 2\n",
      "Number of missing values in column 12 : 0 , Unique Values : 2\n",
      "Number of missing values in column 13 : 0 , Unique Values : 2\n",
      "Number of missing values in column 14 : 0 , Unique Values : 2\n",
      "Number of missing values in column 15 : 0 , Unique Values : 2\n",
      "Number of missing values in column 16 : 0 , Unique Values : 2\n",
      "Number of missing values in column 17 : 0 , Unique Values : 2\n",
      "Number of missing values in column 18 : 0 , Unique Values : 2\n",
      "Number of missing values in column 19 : 600828 , Unique Values : 3\n",
      "Number of missing values in column 20 : 619994 , Unique Values : 6\n",
      "Number of missing values in column 21 : 600998 , Unique Values : 752\n",
      "Number of missing values in column 22 : 0 , Unique Values : 70\n",
      "Number of missing values in column 23 : 0 , Unique Values : 33\n",
      "Number of missing values in column 24 : 0 , Unique Values : 4\n",
      "Number of missing values in column 25 : 0 , Unique Values : 4\n",
      "Number of missing values in column 26 : 0 , Unique Values : 4\n",
      "Number of missing values in column 27 : 0 , Unique Values : 2\n",
      "Number of missing values in column 28 : 0 , Unique Values : 6\n",
      "Number of missing values in column 29 : 0 , Unique Values : 3\n",
      "Number of missing values in column 30 : 0 , Unique Values : 19\n",
      "Number of missing values in column 31 : 0 , Unique Values : 774176\n"
     ]
    }
   ],
   "source": [
    "for j in range(dataset_without_id.shape[1]):\n",
    "    \n",
    "    k = dataset_without_id[:,j]\n",
    "    cnt=0\n",
    "\n",
    "    for i in k:\n",
    "        if i == \"?\":\n",
    "            cnt+=1\n",
    "\n",
    "    print(\"Number of missing values in column\",j+1,\":\",cnt,\", Unique Values :\",len(list(set(dataset_without_id[:,j]))))"
   ]
  },
  {
   "cell_type": "code",
   "execution_count": 36,
   "id": "e1acbc76",
   "metadata": {},
   "outputs": [],
   "source": [
    "l = []\n",
    "\n",
    "for i in range(dataset_without_id.shape[0]):\n",
    "    if dataset_without_id[i][19] == \"?\":\n",
    "        kk = dataset_without_id[i][23]\n",
    "        if kk=='ESERO':\n",
    "            kk = 'SERO'\n",
    "        dataset_without_id[i][19] = kk"
   ]
  },
  {
   "cell_type": "code",
   "execution_count": 37,
   "id": "78f3db0c",
   "metadata": {},
   "outputs": [],
   "source": [
    "dataset_without_id = np.delete(dataset_without_id,[18,20],axis=1)"
   ]
  },
  {
   "cell_type": "code",
   "execution_count": 38,
   "id": "5b80e813",
   "metadata": {},
   "outputs": [
    {
     "name": "stdout",
     "output_type": "stream",
     "text": [
      "Number of missing values in column 1 : 0 , Unique Values : 895102\n",
      "Number of missing values in column 2 : 0 , Unique Values : 2810\n",
      "Number of missing values in column 3 : 0 , Unique Values : 1440\n",
      "Number of missing values in column 4 : 0 , Unique Values : 9\n",
      "Number of missing values in column 5 : 0 , Unique Values : 14267\n",
      "Number of missing values in column 6 : 0 , Unique Values : 214968\n",
      "Number of missing values in column 7 : 0 , Unique Values : 302145\n",
      "Number of missing values in column 8 : 0 , Unique Values : 343293\n",
      "Number of missing values in column 9 : 0 , Unique Values : 2\n",
      "Number of missing values in column 10 : 0 , Unique Values : 2\n",
      "Number of missing values in column 11 : 0 , Unique Values : 2\n",
      "Number of missing values in column 12 : 0 , Unique Values : 2\n",
      "Number of missing values in column 13 : 0 , Unique Values : 2\n",
      "Number of missing values in column 14 : 0 , Unique Values : 2\n",
      "Number of missing values in column 15 : 0 , Unique Values : 2\n",
      "Number of missing values in column 16 : 0 , Unique Values : 2\n",
      "Number of missing values in column 17 : 0 , Unique Values : 2\n",
      "Number of missing values in column 18 : 0 , Unique Values : 2\n",
      "Number of missing values in column 19 : 0 , Unique Values : 5\n",
      "Number of missing values in column 20 : 0 , Unique Values : 70\n",
      "Number of missing values in column 21 : 0 , Unique Values : 33\n",
      "Number of missing values in column 22 : 0 , Unique Values : 4\n",
      "Number of missing values in column 23 : 0 , Unique Values : 4\n",
      "Number of missing values in column 24 : 0 , Unique Values : 4\n",
      "Number of missing values in column 25 : 0 , Unique Values : 2\n",
      "Number of missing values in column 26 : 0 , Unique Values : 6\n",
      "Number of missing values in column 27 : 0 , Unique Values : 3\n",
      "Number of missing values in column 28 : 0 , Unique Values : 19\n",
      "Number of missing values in column 29 : 0 , Unique Values : 774176\n"
     ]
    }
   ],
   "source": [
    "for j in range(dataset_without_id.shape[1]):\n",
    "    \n",
    "    k = dataset_without_id[:,j]\n",
    "    cnt=0\n",
    "\n",
    "    for i in k:\n",
    "        if i == \"?\":\n",
    "            cnt+=1\n",
    "\n",
    "    print(\"Number of missing values in column\",j+1,\":\",cnt,\", Unique Values :\",len(list(set(dataset_without_id[:,j]))))"
   ]
  },
  {
   "cell_type": "code",
   "execution_count": 24,
   "id": "3a2c5438",
   "metadata": {},
   "outputs": [],
   "source": [
    "# for one hot encoding\n",
    "\n",
    "one_hot = {}\n",
    "\n",
    "for j in range(dataset_without_id.shape[1]):\n",
    "    \n",
    "    k = dataset_without_id[:,j]\n",
    "    \n",
    "    encoding = {}\n",
    "    tmp = 0\n",
    "    for i in k:\n",
    "        if i not in encoding.keys():\n",
    "            encoding[i] = tmp\n",
    "            tmp+=1\n",
    "    one_hot[j] = encoding"
   ]
  },
  {
   "cell_type": "code",
   "execution_count": 23,
   "id": "dbfe068b",
   "metadata": {},
   "outputs": [
    {
     "data": {
      "text/plain": [
       "(1578154, 29)"
      ]
     },
     "execution_count": 23,
     "metadata": {},
     "output_type": "execute_result"
    }
   ],
   "source": [
    "dataset_without_id.shape"
   ]
  },
  {
   "cell_type": "code",
   "execution_count": 39,
   "id": "ce1bed0e",
   "metadata": {},
   "outputs": [],
   "source": [
    "import pickle\n",
    "\n",
    "with open('dataset2/raw_dataset_final.pickle', 'wb') as handle:\n",
    "    pickle.dump(dataset_without_id, handle, protocol=pickle.HIGHEST_PROTOCOL)"
   ]
  },
  {
   "cell_type": "code",
   "execution_count": 4,
   "id": "ed608c44",
   "metadata": {},
   "outputs": [],
   "source": [
    "import pickle\n",
    "with open('dataset2/raw_dataset_final.pickle', 'rb') as handle:\n",
    "    dataset_without_id = pickle.load(handle)"
   ]
  },
  {
   "cell_type": "code",
   "execution_count": 5,
   "id": "3ed64047",
   "metadata": {},
   "outputs": [
    {
     "data": {
      "text/plain": [
       "(1578154, 29)"
      ]
     },
     "execution_count": 5,
     "metadata": {},
     "output_type": "execute_result"
    }
   ],
   "source": [
    "dataset_without_id.shape\n",
    "\n",
    "# we need to predict col 22"
   ]
  },
  {
   "cell_type": "markdown",
   "id": "9efba424",
   "metadata": {},
   "source": [
    "### Spliting the dataset to test and train"
   ]
  },
  {
   "cell_type": "markdown",
   "id": "0164ae0f",
   "metadata": {},
   "source": [
    "### 1. checking the number of classes"
   ]
  },
  {
   "cell_type": "code",
   "execution_count": 6,
   "id": "a888b6a6",
   "metadata": {},
   "outputs": [
    {
     "data": {
      "text/plain": [
       "['SERO', 'Warning', 'Citation', 'ESERO']"
      ]
     },
     "execution_count": 6,
     "metadata": {},
     "output_type": "execute_result"
    }
   ],
   "source": [
    "classes = list(set(dataset_without_id[:,21]))\n",
    "classes"
   ]
  },
  {
   "cell_type": "markdown",
   "id": "11ffc611",
   "metadata": {},
   "source": [
    "### 2. Checking the distribution of classes"
   ]
  },
  {
   "cell_type": "code",
   "execution_count": 8,
   "id": "84783e4c",
   "metadata": {},
   "outputs": [],
   "source": [
    "classes_dic = {}\n",
    "\n",
    "tmp = dataset_without_id[:,21]\n",
    "\n",
    "for i in tmp:\n",
    "    if i not in classes_dic.keys():\n",
    "        classes_dic[i] = 1\n",
    "    else:\n",
    "        classes_dic[i]+=1"
   ]
  },
  {
   "cell_type": "code",
   "execution_count": 9,
   "id": "6fb3058b",
   "metadata": {},
   "outputs": [
    {
     "data": {
      "text/plain": [
       "{'ESERO': 75974, 'Warning': 789812, 'Citation': 711469, 'SERO': 899}"
      ]
     },
     "execution_count": 9,
     "metadata": {},
     "output_type": "execute_result"
    }
   ],
   "source": [
    "classes_dic"
   ]
  },
  {
   "cell_type": "code",
   "execution_count": 10,
   "id": "0a50e27f",
   "metadata": {},
   "outputs": [
    {
     "name": "stdout",
     "output_type": "stream",
     "text": [
      "dict_keys(['ESERO', 'Warning', 'Citation', 'SERO'])\n",
      "dict_values([75974, 789812, 711469, 899])\n"
     ]
    },
    {
     "data": {
      "image/png": "[encoded data removed]",
      "text/plain": [
       "<Figure size 640x480 with 1 Axes>"
      ]
     },
     "metadata": {},
     "output_type": "display_data"
    }
   ],
   "source": [
    "import matplotlib.pyplot as plt\n",
    "import numpy as np\n",
    "\n",
    "x = classes_dic.keys()\n",
    "y = classes_dic.values()\n",
    "\n",
    "print(x)\n",
    "print(y)\n",
    "\n",
    "plt.plot(x, y)\n",
    "plt.show()"
   ]
  },
  {
   "cell_type": "markdown",
   "id": "858be109",
   "metadata": {},
   "source": [
    "Since the distribution of classes is uneven. we need some normalization. And also when we are spliting the dataset we need to split it accordingly so that the distribution will not affect."
   ]
  },
  {
   "cell_type": "markdown",
   "id": "95105bae",
   "metadata": {},
   "source": [
    "### 3. Spliting the dataset"
   ]
  },
  {
   "cell_type": "markdown",
   "id": "9b7a58e4",
   "metadata": {},
   "source": [
    "### 3.1 For each class take X% as the train and Y% as train dataset. If the number of samples are less than 5 the we will consider all the samples for training in that case."
   ]
  },
  {
   "cell_type": "code",
   "execution_count": 11,
   "id": "999b9f17",
   "metadata": {},
   "outputs": [],
   "source": [
    "# ! /home/rajat1/anaconda3/envs/col865/bin/pip install tqdm"
   ]
  },
  {
   "cell_type": "code",
   "execution_count": 12,
   "id": "1a662f2d",
   "metadata": {},
   "outputs": [],
   "source": [
    "# ! /home/rajat1/anaconda3/envs/col865/bin/pip install sklearn"
   ]
  },
  {
   "cell_type": "code",
   "execution_count": 14,
   "id": "6abf9f5c",
   "metadata": {},
   "outputs": [],
   "source": [
    "train_per = 60\n",
    "test_per = 100 - train_per\n",
    "threshold = 5"
   ]
  },
  {
   "cell_type": "code",
   "execution_count": 15,
   "id": "3c6f4c4a",
   "metadata": {},
   "outputs": [],
   "source": [
    "classes_dic_data = {}\n",
    "\n",
    "tmp = dataset_without_id[:,:]\n",
    "\n",
    "\n",
    "for i in tmp:\n",
    "    if i[21] not in classes_dic_data.keys():\n",
    "        classes_dic_data[i[21]] = []\n",
    "    \n",
    "    classes_dic_data[i[21]].append(i)"
   ]
  },
  {
   "cell_type": "code",
   "execution_count": 16,
   "id": "f54df1ee",
   "metadata": {},
   "outputs": [
    {
     "name": "stdout",
     "output_type": "stream",
     "text": [
      "ESERO 75974\n",
      "Warning 789812\n",
      "Citation 711469\n",
      "SERO 899\n"
     ]
    }
   ],
   "source": [
    "for i in classes_dic_data.keys():\n",
    "    print(i, len(classes_dic_data[i]))"
   ]
  },
  {
   "cell_type": "code",
   "execution_count": 17,
   "id": "d8078a97",
   "metadata": {},
   "outputs": [
    {
     "name": "stdout",
     "output_type": "stream",
     "text": [
      "ESERO 75974\n",
      "Warning 789812\n",
      "Citation 711469\n",
      "SERO 899\n"
     ]
    }
   ],
   "source": [
    "import sklearn\n",
    "import sklearn.model_selection\n",
    "\n",
    "test = []\n",
    "train = []\n",
    "\n",
    "\n",
    "import random\n",
    "\n",
    "for i in classes_dic_data.keys():\n",
    "    \n",
    "    print(i, len(classes_dic_data[i]))\n",
    "    \n",
    "    if len(classes_dic_data[i]) < threshold:\n",
    "        \n",
    "        for j in classes_dic_data[i]:\n",
    "            train.append(j)\n",
    "            \n",
    "    else:\n",
    "\n",
    "        train_t, test_t = sklearn.model_selection.train_test_split(classes_dic_data[i], shuffle=True, test_size = test_per/100)\n",
    "        \n",
    "        for j in train_t:\n",
    "            train.append(j)\n",
    "        \n",
    "        for j in test_t:\n",
    "            test.append(j)"
   ]
  },
  {
   "cell_type": "code",
   "execution_count": 18,
   "id": "e16ccd32",
   "metadata": {},
   "outputs": [
    {
     "name": "stdout",
     "output_type": "stream",
     "text": [
      "Train 946891\n",
      "Test 631263\n",
      "Total 1578154\n"
     ]
    }
   ],
   "source": [
    "print(\"Train\",len(train))\n",
    "print(\"Test\",len(test)) \n",
    "print(\"Total\", len(train)+len(test)) # 1578154"
   ]
  },
  {
   "cell_type": "code",
   "execution_count": 19,
   "id": "629a6b97",
   "metadata": {},
   "outputs": [],
   "source": [
    "train = np.array(train)\n",
    "test = np.array(test)"
   ]
  },
  {
   "cell_type": "code",
   "execution_count": 25,
   "id": "5f4f6d17",
   "metadata": {},
   "outputs": [],
   "source": [
    "for i in range(train.shape[1]):\n",
    "    cl = i\n",
    "    dt = train[:,i]\n",
    "    for j in range(dt.shape[0]):\n",
    "        train[j][i] = one_hot[i][train[j][i]]\n"
   ]
  },
  {
   "cell_type": "code",
   "execution_count": 26,
   "id": "acb6aba7",
   "metadata": {},
   "outputs": [],
   "source": [
    "for i in range(test.shape[1]):\n",
    "    cl = i\n",
    "    dt = test[:,i]\n",
    "    for j in range(dt.shape[0]):\n",
    "        test[j][i] = one_hot[i][test[j][i]]"
   ]
  },
  {
   "cell_type": "markdown",
   "id": "1cd7ee98",
   "metadata": {},
   "source": [
    "### 3.2 Dataset is preapared"
   ]
  },
  {
   "cell_type": "code",
   "execution_count": 27,
   "id": "d2f85c43",
   "metadata": {},
   "outputs": [],
   "source": [
    "train_X = np.delete(train,21,axis=1)\n",
    "train_y = train[:,21]\n",
    "test_X = np.delete(test,21,axis=1)\n",
    "test_y = test[:,21]"
   ]
  },
  {
   "cell_type": "code",
   "execution_count": null,
   "id": "8f0ddfc0",
   "metadata": {},
   "outputs": [],
   "source": []
  },
  {
   "cell_type": "markdown",
   "id": "43e6f5d3",
   "metadata": {},
   "source": [
    "## Running the model"
   ]
  },
  {
   "cell_type": "code",
   "execution_count": 28,
   "id": "f3f80707",
   "metadata": {},
   "outputs": [],
   "source": [
    "from sklearn.ensemble import RandomForestClassifier\n",
    "\n",
    "clf = RandomForestClassifier(max_depth=10, random_state=0)"
   ]
  },
  {
   "cell_type": "markdown",
   "id": "3b1d17ea",
   "metadata": {},
   "source": [
    "### 1. training the model"
   ]
  },
  {
   "cell_type": "code",
   "execution_count": 29,
   "id": "41097638",
   "metadata": {},
   "outputs": [
    {
     "data": {
      "text/plain": [
       "RandomForestClassifier(max_depth=10, random_state=0)"
      ]
     },
     "execution_count": 29,
     "metadata": {},
     "output_type": "execute_result"
    }
   ],
   "source": [
    "clf.fit(train_X, train_y)"
   ]
  },
  {
   "cell_type": "code",
   "execution_count": 30,
   "id": "02e260b7",
   "metadata": {},
   "outputs": [
    {
     "name": "stdout",
     "output_type": "stream",
     "text": [
      "['2']\n",
      "0\n"
     ]
    }
   ],
   "source": [
    "print(clf.predict([test_X[0]]))\n",
    "print(test_y[0])"
   ]
  },
  {
   "cell_type": "markdown",
   "id": "10c380e4",
   "metadata": {},
   "source": [
    "### 2. testing the model"
   ]
  },
  {
   "cell_type": "code",
   "execution_count": 31,
   "id": "41f3a3ae",
   "metadata": {},
   "outputs": [],
   "source": [
    "true_res = 0\n",
    "\n",
    "res = clf.predict(test_X)"
   ]
  },
  {
   "cell_type": "code",
   "execution_count": 32,
   "id": "6f4b503b",
   "metadata": {},
   "outputs": [
    {
     "name": "stdout",
     "output_type": "stream",
     "text": [
      "0.9477586996228197\n"
     ]
    }
   ],
   "source": [
    "for i in range(res.shape[0]):\n",
    "    if(res[i] == test_y[i]):\n",
    "        true_res +=1\n",
    "\n",
    "accuracy = true_res/test_X.shape[0]\n",
    "print(accuracy)"
   ]
  },
  {
   "cell_type": "code",
   "execution_count": null,
   "id": "08e9b08c",
   "metadata": {},
   "outputs": [],
   "source": []
  },
  {
   "cell_type": "code",
   "execution_count": 49,
   "id": "fef446b0",
   "metadata": {},
   "outputs": [],
   "source": [
    "def plot_confusion_matrix(cm,\n",
    "                          target_names,\n",
    "                          title='Confusion matrix',\n",
    "                          cmap=None,\n",
    "                          normalize=True):\n",
    "    \"\"\"\n",
    "    given a sklearn confusion matrix (cm), make a nice plot\n",
    "\n",
    "    Arguments\n",
    "    ---------\n",
    "    cm:           confusion matrix from sklearn.metrics.confusion_matrix\n",
    "\n",
    "    target_names: given classification classes such as [0, 1, 2]\n",
    "                  the class names, for example: ['high', 'medium', 'low']\n",
    "\n",
    "    title:        the text to display at the top of the matrix\n",
    "\n",
    "    cmap:         the gradient of the values displayed from matplotlib.pyplot.cm\n",
    "                  see http://matplotlib.org/examples/color/colormaps_reference.html\n",
    "                  plt.get_cmap('jet') or plt.cm.Blues\n",
    "\n",
    "    normalize:    If False, plot the raw numbers\n",
    "                  If True, plot the proportions\n",
    "\n",
    "    Usage\n",
    "    -----\n",
    "    plot_confusion_matrix(cm           = cm,                  # confusion matrix created by\n",
    "                                                              # sklearn.metrics.confusion_matrix\n",
    "                          normalize    = True,                # show proportions\n",
    "                          target_names = y_labels_vals,       # list of names of the classes\n",
    "                          title        = best_estimator_name) # title of graph\n",
    "\n",
    "    Citiation\n",
    "    ---------\n",
    "    http://scikit-learn.org/stable/auto_examples/model_selection/plot_confusion_matrix.html\n",
    "\n",
    "    \"\"\"\n",
    "    import matplotlib.pyplot as plt\n",
    "    import numpy as np\n",
    "    import itertools\n",
    "    \n",
    "    \n",
    "    #cm = np.log(cm+1)\n",
    "    #cm = cm.astype(\"int32\")\n",
    "    \n",
    "    accuracy = np.trace(cm) / float(np.sum(cm))\n",
    "    misclass = 1 - accuracy\n",
    "\n",
    "    if cmap is None:\n",
    "        cmap = plt.get_cmap('Blues')\n",
    "\n",
    "    plt.figure(figsize=(5,5))\n",
    "    #plt.figure()\n",
    "    plt.imshow(cm, interpolation='nearest', cmap=cmap)\n",
    "    plt.title(title)\n",
    "    plt.colorbar()\n",
    "\n",
    "    if target_names is not None:\n",
    "        tick_marks = np.arange(len(target_names))\n",
    "        plt.xticks(tick_marks, target_names, rotation=45)\n",
    "        plt.yticks(tick_marks, target_names)\n",
    "\n",
    "    if normalize:\n",
    "        cm = cm.astype('float') / cm.sum(axis=1)[:, np.newaxis]\n",
    "\n",
    "\n",
    "    thresh = cm.max() / 1.5 if normalize else cm.max() / 2\n",
    "    for i, j in itertools.product(range(cm.shape[0]), range(cm.shape[1])):\n",
    "        if normalize:\n",
    "            plt.text(j, i, \"{:0.4f}\".format(cm[i, j]),\n",
    "                     horizontalalignment=\"center\",\n",
    "                     color=\"white\" if cm[i, j] > thresh else \"black\")\n",
    "        else:\n",
    "            plt.text(j, i, \"{:,}\".format(cm[i, j]),\n",
    "                     horizontalalignment=\"center\",\n",
    "                     color=\"white\" if cm[i, j] > thresh else \"black\")\n",
    "\n",
    "\n",
    "    plt.tight_layout()\n",
    "    plt.ylabel('True label')\n",
    "    plt.xlabel('Predicted label\\naccuracy={:0.4f}; misclass={:0.4f}'.format(accuracy, misclass))\n",
    "    plt.savefig(\"fig_d2_decision.png\")\n",
    "    plt.show()"
   ]
  },
  {
   "cell_type": "code",
   "execution_count": 50,
   "id": "0441db7a",
   "metadata": {},
   "outputs": [],
   "source": [
    "classes = list(set(test_y))\n",
    "\n",
    "dic = {}\n",
    "for i in range(len(classes)):\n",
    "    dic[classes[i]] = i\n",
    "\n",
    "cnf_array = []\n",
    "for i in range(len(classes)):\n",
    "    cnf_array.append([0]*len(classes))\n",
    "\n",
    "for i in range(res.shape[0]):\n",
    "    cnf_array[dic[test_y[i]]][dic[res[i]]]+=1"
   ]
  },
  {
   "cell_type": "code",
   "execution_count": 51,
   "id": "f8603d16",
   "metadata": {},
   "outputs": [
    {
     "name": "stdout",
     "output_type": "stream",
     "text": [
      "[[290575, 0, 50, 25300], [1, 351, 5, 3], [3193, 6, 24816, 2375], [1849, 0, 196, 282543]]\n"
     ]
    }
   ],
   "source": [
    "print(cnf_array)"
   ]
  },
  {
   "cell_type": "code",
   "execution_count": 52,
   "id": "808d7fd7",
   "metadata": {},
   "outputs": [
    {
     "data": {
      "image/png": "[encoded data removed]",
      "text/plain": [
       "<Figure size 500x500 with 2 Axes>"
      ]
     },
     "metadata": {},
     "output_type": "display_data"
    }
   ],
   "source": [
    "plot_confusion_matrix(cm= np.array(cnf_array), \n",
    "                      normalize    = False,\n",
    "                      target_names = classes,\n",
    "                      title        = \"Confusion Matrix\")"
   ]
  },
  {
   "cell_type": "code",
   "execution_count": null,
   "id": "9bdd1787",
   "metadata": {},
   "outputs": [],
   "source": []
  }
 ],
 "metadata": {
  "kernelspec": {
   "display_name": "col865",
   "language": "python",
   "name": "col865"
  },
  "language_info": {
   "codemirror_mode": {
    "name": "ipython",
    "version": 3
   },
   "file_extension": ".py",
   "mimetype": "text/x-python",
   "name": "python",
   "nbconvert_exporter": "python",
   "pygments_lexer": "ipython3",
   "version": "3.7.13"
  }
 },
 "nbformat": 4,
 "nbformat_minor": 5
}
